{
 "cells": [
  {
   "cell_type": "code",
   "execution_count": 1,
   "id": "f94b3fe5",
   "metadata": {},
   "outputs": [
    {
     "data": {
      "text/plain": [
       "4"
      ]
     },
     "execution_count": 1,
     "metadata": {},
     "output_type": "execute_result"
    }
   ],
   "source": [
    "2+2"
   ]
  },
  {
   "cell_type": "code",
   "execution_count": null,
   "id": "9a9255fe",
   "metadata": {},
   "outputs": [],
   "source": [
    "x=12\n",
    "y=23"
   ]
  },
  {
   "cell_type": "code",
   "execution_count": null,
   "id": "411095c0",
   "metadata": {},
   "outputs": [],
   "source": [
    "x,y=13,24\n",
    "a,b,c=2,4,120"
   ]
  },
  {
   "cell_type": "code",
   "execution_count": 7,
   "id": "3631c74f",
   "metadata": {},
   "outputs": [],
   "source": [
    "x,y = 13,24\n",
    "a,b,c=2,4,120"
   ]
  },
  {
   "cell_type": "code",
   "execution_count": 8,
   "id": "35edcdba",
   "metadata": {},
   "outputs": [
    {
     "data": {
      "text/plain": [
       "True"
      ]
     },
     "execution_count": 8,
     "metadata": {},
     "output_type": "execute_result"
    }
   ],
   "source": [
    "x==13"
   ]
  },
  {
   "cell_type": "code",
   "execution_count": 9,
   "id": "561f7d22",
   "metadata": {},
   "outputs": [
    {
     "data": {
      "text/plain": [
       "True"
      ]
     },
     "execution_count": 9,
     "metadata": {},
     "output_type": "execute_result"
    }
   ],
   "source": [
    "y>=23"
   ]
  },
  {
   "cell_type": "code",
   "execution_count": 10,
   "id": "c3847d95",
   "metadata": {},
   "outputs": [
    {
     "data": {
      "text/plain": [
       "False"
      ]
     },
     "execution_count": 10,
     "metadata": {},
     "output_type": "execute_result"
    }
   ],
   "source": [
    "x=1-100\n",
    "1<=x<=100 # if x is in the range of 2-99"
   ]
  },
  {
   "cell_type": "code",
   "execution_count": 11,
   "id": "f3f6144f",
   "metadata": {},
   "outputs": [
    {
     "data": {
      "text/plain": [
       "True"
      ]
     },
     "execution_count": 11,
     "metadata": {},
     "output_type": "execute_result"
    }
   ],
   "source": [
    "x=100\n",
    "1<=x<=100"
   ]
  },
  {
   "cell_type": "code",
   "execution_count": 12,
   "id": "8f2c5077",
   "metadata": {},
   "outputs": [
    {
     "data": {
      "text/plain": [
       "False"
      ]
     },
     "execution_count": 12,
     "metadata": {},
     "output_type": "execute_result"
    }
   ],
   "source": [
    "not a #convert true value to false and vice verse\n"
   ]
  },
  {
   "cell_type": "code",
   "execution_count": null,
   "id": "e2d93ee0",
   "metadata": {},
   "outputs": [],
   "source": [
    "not (a==10) #invert the result"
   ]
  },
  {
   "cell_type": "markdown",
   "id": "8c894b54",
   "metadata": {},
   "source": [
    "add\n",
    "create\n",
    "add\n",
    "remove\n",
    "search\n",
    "sort\n",
    "count\n",
    "review"
   ]
  },
  {
   "cell_type": "code",
   "execution_count": 4,
   "id": "9481a3d1",
   "metadata": {},
   "outputs": [
    {
     "name": "stdout",
     "output_type": "stream",
     "text": [
      "['the way of king']\n",
      "['the way of king', 'the final empire', 'steelheat', 'legion']\n"
     ]
    }
   ],
   "source": [
    "books =[]\n",
    "#adding one item at a time\n",
    "books.append(\"the way of king\")\n",
    "print(books)\n",
    "books.append(\"the final empire\")\n",
    "books.append(\"steelheat\")\n",
    "books.append(\"legion\")\n",
    "print(books)"
   ]
  },
  {
   "cell_type": "code",
   "execution_count": 6,
   "id": "48db59da",
   "metadata": {},
   "outputs": [
    {
     "name": "stdout",
     "output_type": "stream",
     "text": [
      "['red', 'greeen', 'blue', 'yellow', 'black']\n",
      "Ellipsis\n"
     ]
    }
   ],
   "source": [
    "colors=['red','greeen','blue']\n",
    "colors.extend(['yellow','black'])\n",
    "print(colors)\n",
    "colors2 = [\"purple\",\"pink\",\"yellow\"]\n",
    "colors.extend(colors2)\n",
    "print(...)\n"
   ]
  },
  {
   "cell_type": "code",
   "execution_count": 10,
   "id": "22bfddad",
   "metadata": {},
   "outputs": [
    {
     "name": "stdout",
     "output_type": "stream",
     "text": [
      "[1, 2, 3, 4, 5, 6, 7, 8, 9, 10]\n"
     ]
    }
   ],
   "source": [
    "a = []\n",
    "for i in range(1, 11):  # Range starts from 1 to 10\n",
    "    a.append(i)\n",
    "# Print the resulting list\n",
    "print(a)"
   ]
  },
  {
   "cell_type": "code",
   "execution_count": 14,
   "id": "84e95224",
   "metadata": {},
   "outputs": [
    {
     "name": "stdout",
     "output_type": "stream",
     "text": [
      "['arya']\n",
      "['arya', 'joe']\n",
      "['arya', 'joe', 'rrr']\n",
      "['arya', 'joe', 'rrr', 'og']\n",
      "['arya', 'joe', 'rrr', 'og', 'darling']\n"
     ]
    }
   ],
   "source": [
    "# Initialize an empty list\n",
    "movies = []\n",
    "for i in range(5):\n",
    "    value = input(f\"Enter name of the movies \")\n",
    "    movies.append(value)\n",
    "    print(movies)"
   ]
  },
  {
   "cell_type": "code",
   "execution_count": 15,
   "id": "95102cef",
   "metadata": {},
   "outputs": [
    {
     "name": "stdout",
     "output_type": "stream",
     "text": [
      "[1, 5, 1, 10]\n"
     ]
    }
   ],
   "source": [
    "x = [1,5,10]\n",
    "x.insert(2,1)\n",
    "print(x)"
   ]
  },
  {
   "cell_type": "code",
   "execution_count": 18,
   "id": "3be92234",
   "metadata": {},
   "outputs": [
    {
     "name": "stdout",
     "output_type": "stream",
     "text": [
      "[1, 5, 10, 4]\n"
     ]
    }
   ],
   "source": [
    "x = [1,5,10]\n",
    "x.insert(4,4)\n",
    "print(x)"
   ]
  },
  {
   "cell_type": "code",
   "execution_count": null,
   "id": "b8764ba5",
   "metadata": {},
   "outputs": [],
   "source": []
  }
 ],
 "metadata": {
  "kernelspec": {
   "display_name": "Python 3",
   "language": "python",
   "name": "python3"
  },
  "language_info": {
   "codemirror_mode": {
    "name": "ipython",
    "version": 3
   },
   "file_extension": ".py",
   "mimetype": "text/x-python",
   "name": "python",
   "nbconvert_exporter": "python",
   "pygments_lexer": "ipython3",
   "version": "3.13.6"
  }
 },
 "nbformat": 4,
 "nbformat_minor": 5
}
