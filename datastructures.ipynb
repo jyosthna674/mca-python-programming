{
 "cells": [
  {
   "cell_type": "markdown",
   "id": "8ba6852c",
   "metadata": {},
   "source": [
    "Adding elements\n",
    "    1 . append() -> add one element to the end of the list\n",
    "    2 . insert() -> add one element to a specific position\n",
    "    3 . extend() -> append multiple items in a list\n",
    "\n",
    "Removing elements\n",
    "    1.remove() -> remove the first occurence of a value\n",
    "    2.pop() -> remove and return an element from an index\n",
    "    3.clear() -> remove all elements from the list\n",
    "\n",
    "\n",
    "\n"
   ]
  },
  {
   "cell_type": "code",
   "execution_count": 1,
   "id": "3b02596e",
   "metadata": {},
   "outputs": [
    {
     "name": "stdout",
     "output_type": "stream",
     "text": [
      "size of movies list 12\n"
     ]
    }
   ],
   "source": [
    "movies = ['Arya','Joe','RRR','OG','Rabasa','KGF','Happy','Dhee','Billa','Darling','Mr.perfect','Sahoo']\n",
    "print(\"size of movies list\",len(movies))"
   ]
  },
  {
   "cell_type": "code",
   "execution_count": null,
   "id": "c3a9c18c",
   "metadata": {},
   "outputs": [
    {
     "name": "stdout",
     "output_type": "stream",
     "text": [
      "['Arya', 'Joe', 'RRR', 'OG', 'Rabasa', 'Happy', 'Dhee', 'Billa', 'Darling', 'Mr.perfect', 'Sahoo']\n"
     ]
    }
   ],
   "source": [
    "#remove()\n",
    "movies.remove(\"KGF\")\n",
    "print(movies)"
   ]
  },
  {
   "cell_type": "code",
   "execution_count": null,
   "id": "b779339f",
   "metadata": {},
   "outputs": [
    {
     "name": "stdout",
     "output_type": "stream",
     "text": [
      "['Arya', 'RRR', 'OG', 'Rabasa', 'Happy', 'Dhee', 'Billa', 'Darling', 'Mr.perfect', 'Sahoo']\n"
     ]
    }
   ],
   "source": [
    "#validation based removal\n",
    "if \"Joe\" in movies:\n",
    "    movies.remove(\"Joe\")\n",
    "print(movies)"
   ]
  },
  {
   "cell_type": "code",
   "execution_count": null,
   "id": "dd8752ef",
   "metadata": {},
   "outputs": [
    {
     "data": {
      "text/plain": [
       "'Rabasa'"
      ]
     },
     "execution_count": 5,
     "metadata": {},
     "output_type": "execute_result"
    }
   ],
   "source": [
    "#pop()\n",
    "movies.pop(3)"
   ]
  },
  {
   "cell_type": "code",
   "execution_count": 6,
   "id": "135df6b2",
   "metadata": {},
   "outputs": [
    {
     "name": "stdout",
     "output_type": "stream",
     "text": [
      "['Arya', 'RRR', 'OG', 'Happy', 'Dhee', 'Billa', 'Darling', 'Mr.perfect', 'Sahoo']\n",
      "9\n"
     ]
    }
   ],
   "source": [
    "print(movies)\n",
    "print(len(movies))"
   ]
  },
  {
   "cell_type": "code",
   "execution_count": 7,
   "id": "fdc112a9",
   "metadata": {},
   "outputs": [
    {
     "data": {
      "text/plain": [
       "'Sahoo'"
      ]
     },
     "execution_count": 7,
     "metadata": {},
     "output_type": "execute_result"
    }
   ],
   "source": [
    "#pop() without any index will remove the list \n",
    "movies.pop()"
   ]
  },
  {
   "cell_type": "code",
   "execution_count": 9,
   "id": "bb0d27ff",
   "metadata": {},
   "outputs": [],
   "source": [
    "languages = ['c','Python','Kotlin','Java','Dart','Go','C++','C#','Html','Java script','Scale','Rust','Mojo','Assembly']\n",
    "numbers = [12,56,23,67,13,23,12,56,23,56,12,34,23,23,12,34,34,23,53,92]\n",
    "data = [1, 'apple', 2, 'Avacado', 3, 'Apricot']"
   ]
  },
  {
   "cell_type": "code",
   "execution_count": 10,
   "id": "29c79ba0",
   "metadata": {},
   "outputs": [
    {
     "data": {
      "text/plain": [
       "4"
      ]
     },
     "execution_count": 10,
     "metadata": {},
     "output_type": "execute_result"
    }
   ],
   "source": [
    "numbers.count(12)  # counts how many time 12 occurs in list"
   ]
  },
  {
   "cell_type": "code",
   "execution_count": 11,
   "id": "b450b6d4",
   "metadata": {},
   "outputs": [
    {
     "name": "stdout",
     "output_type": "stream",
     "text": [
      "0\n",
      "6\n",
      "3\n"
     ]
    }
   ],
   "source": [
    "print(numbers.count(1))\n",
    "print(numbers.count(23))\n",
    "print(numbers.count(56))"
   ]
  },
  {
   "cell_type": "code",
   "execution_count": 15,
   "id": "915fa1cf",
   "metadata": {},
   "outputs": [
    {
     "data": {
      "text/plain": [
       "7"
      ]
     },
     "execution_count": 15,
     "metadata": {},
     "output_type": "execute_result"
    }
   ],
   "source": [
    "languages.index('C#')   # 7th index in my list"
   ]
  },
  {
   "cell_type": "code",
   "execution_count": 17,
   "id": "606ff2f3",
   "metadata": {},
   "outputs": [
    {
     "name": "stdout",
     "output_type": "stream",
     "text": [
      "0\n",
      "3\n",
      "1\n"
     ]
    }
   ],
   "source": [
    "print(languages.index(\"c\"))\n",
    "print(languages.index(\"Java\"))\n",
    "print(languages.index(\"Python\"))\n",
    "#print(languages.index(Lisp))"
   ]
  },
  {
   "cell_type": "code",
   "execution_count": 18,
   "id": "bf2078a3",
   "metadata": {},
   "outputs": [
    {
     "name": "stdout",
     "output_type": "stream",
     "text": [
      "original ['c', 'Python', 'Kotlin', 'Java', 'Dart', 'Go', 'C++', 'C#', 'Html', 'Java script', 'Scale', 'Rust', 'Mojo', 'Assembly']\n",
      "sorted ['Assembly', 'C#', 'C++', 'Dart', 'Go', 'Html', 'Java', 'Java script', 'Kotlin', 'Mojo', 'Python', 'Rust', 'Scale', 'c']\n",
      "Sorted in reverse  ['c', 'Scale', 'Rust', 'Python', 'Mojo', 'Kotlin', 'Java script', 'Java', 'Html', 'Go', 'Dart', 'C++', 'C#', 'Assembly']\n"
     ]
    }
   ],
   "source": [
    "print(\"original\", languages)\n",
    "languages.sort()\n",
    "print(\"sorted\", languages)\n",
    "languages.sort(reverse=True)\n",
    "print(\"Sorted in reverse \",languages)"
   ]
  },
  {
   "cell_type": "code",
   "execution_count": null,
   "id": "e3e1a5e0",
   "metadata": {},
   "outputs": [
    {
     "name": "stdout",
     "output_type": "stream",
     "text": [
      "original [1, 'apple', 2, 'Avacado', 3, 'Apricot']\n",
      "Reversed ['Apricot', 3, 'Avacado', 2, 'apple', 1]\n"
     ]
    }
   ],
   "source": [
    "print(\"original\",data)\n",
    "data.reverse()  #reversed the list\n",
    "print(\"Reversed\",data)"
   ]
  },
  {
   "cell_type": "code",
   "execution_count": 2,
   "id": "9c5a0419",
   "metadata": {},
   "outputs": [
    {
     "name": "stdout",
     "output_type": "stream",
     "text": [
      "[1, 2, 3, 4]/n[1, 2, 3, 4]/n[1, 2, 3, 4]\n",
      "[1, 2, 3, 4]/n[1, 2, 3, 4]/n[1, 2, 3, 4, 10, 20]\n"
     ]
    }
   ],
   "source": [
    "x = [1,2,3,4]\n",
    "y = x #deep copy\n",
    "z = x.copy()\n",
    "print(x, y, z, sep='/n')\n",
    "x.append(10)\n",
    "y.pop()\n",
    "z.append(10)\n",
    "z.append(20)\n",
    "print(x,y,z, sep='/n')"
   ]
  },
  {
   "cell_type": "code",
   "execution_count": 2,
   "id": "9a9e4877",
   "metadata": {},
   "outputs": [],
   "source": [
    "fruits = [\"Mango\",\"Apple\",\"Banana\",\"Orange\",\"Grapes\",\"Custardapple\",\"Pineapple\",\"Dragonfruit\",\"Watermelon\"]\n",
    "series = [\"Money heist\",\"Game of throns\",\"Mirzapur\",\"Squid game\",\"Indoor Ishaq\",\"Breaking bad\",\"Stranger things\",\"Wednesday\",\"Wednesday 2\",\"Vampire diaries\",\"House of the dragons\"]\n",
    "vegetables = [\"Tomato\",\"Brinjal\",\"Carrot\",\"raddish\",\"Beetroot\",\"Beans\",\"Ladiesfinger\",\"Onion\",\"Chilli\",\"Drumstick\"]\n",
    "biglist = fruits+vegetables+series"
   ]
  },
  {
   "cell_type": "markdown",
   "id": "dc212d18",
   "metadata": {},
   "source": [
    "NESTED LIST : \n",
    " list within a list"
   ]
  },
  {
   "cell_type": "code",
   "execution_count": 3,
   "id": "b362de00",
   "metadata": {},
   "outputs": [
    {
     "name": "stdout",
     "output_type": "stream",
     "text": [
      "[]\n",
      "[[]]\n"
     ]
    }
   ],
   "source": [
    "x = []\n",
    "x2 = [[]]\n",
    "print(x)\n",
    "print(x2)"
   ]
  },
  {
   "cell_type": "code",
   "execution_count": 4,
   "id": "1ba44476",
   "metadata": {},
   "outputs": [
    {
     "name": "stdout",
     "output_type": "stream",
     "text": [
      "[1, 2, 3]\n"
     ]
    }
   ],
   "source": [
    "x.append(1)\n",
    "x.append(2)\n",
    "x.append(3)\n",
    "print(x)"
   ]
  },
  {
   "cell_type": "code",
   "execution_count": 5,
   "id": "37697750",
   "metadata": {},
   "outputs": [
    {
     "name": "stdout",
     "output_type": "stream",
     "text": [
      "[[], 1, [1, 2, 3], [4, 5, 6]]\n"
     ]
    }
   ],
   "source": [
    "x2.append(1)\n",
    "x2.append([1,2,3])\n",
    "x2.append([4,5,6])\n",
    "print(x2)"
   ]
  },
  {
   "cell_type": "code",
   "execution_count": 8,
   "id": "c5cb2de5",
   "metadata": {},
   "outputs": [
    {
     "name": "stdout",
     "output_type": "stream",
     "text": [
      "[['Green', 'Black', 'yellow'], ['Apple', 'Gauva', 'Blueberry'], [150, 100, 300]]\n",
      "Size of the list 3\n",
      "Size of the list at index 0 is 3 => ['Green', 'Black', 'yellow']\n",
      "Size of the list at index 1 is 3 => ['Apple', 'Gauva', 'Blueberry']\n",
      "Size of the list at index 2 is 3 => [150, 100, 300]\n",
      "Element 0 as list 0 is  Black\n",
      "Element 2 as list 0 is  yellow\n",
      "Element 0 as list 1 is  Apple\n",
      "Element 1 as list 1 is  Gauva\n"
     ]
    }
   ],
   "source": [
    "items = [\n",
    "    ['Green','Black','yellow'],\n",
    "    ['Apple','Gauva','Blueberry'],\n",
    "    [150,100,300]\n",
    "]\n",
    "print(items)\n",
    "print(\"Size of the list\", len(items))\n",
    "print(\"Size of the list at index 0 is\", len (items[0]),\"=>\", items[0])\n",
    "print(\"Size of the list at index 1 is\", len (items[1]),\"=>\", items[1])\n",
    "print(\"Size of the list at index 2 is\", len(items[2]), \"=>\", items[2])\n",
    "print(\"Element 0 as list 0 is \", items [0] [1])\n",
    "print(\"Element 2 as list 0 is \", items[0][2])\n",
    "print(\"Element 0 as list 1 is \", items[1][0])\n",
    "print(\"Element 1 as list 1 is \", items[1][1])\n"
   ]
  },
  {
   "cell_type": "markdown",
   "id": "a7b793d1",
   "metadata": {},
   "source": [
    "Matrix means combination of rows and columns"
   ]
  },
  {
   "cell_type": "code",
   "execution_count": 10,
   "id": "05dc36b9",
   "metadata": {},
   "outputs": [
    {
     "name": "stdout",
     "output_type": "stream",
     "text": [
      "[[12, 23, 45, 25], [85, 95, 25, 15], [30, 32, 35, 5]]\n"
     ]
    }
   ],
   "source": [
    "matrix = [\n",
    "    [12,23,45,25],\n",
    "    [85,95,25,15],\n",
    "    [30,32,35,5]\n",
    "]\n",
    "print(matrix)\n"
   ]
  },
  {
   "cell_type": "code",
   "execution_count": 12,
   "id": "5cf713de",
   "metadata": {},
   "outputs": [
    {
     "name": "stdout",
     "output_type": "stream",
     "text": [
      "[12, 23, 45, 25]\n",
      "[85, 95, 25, 15]\n",
      "[30, 32, 35, 5]\n"
     ]
    }
   ],
   "source": [
    "#not good \n",
    "print(matrix[0])\n",
    "print(matrix[1])\n",
    "print(matrix[2])"
   ]
  },
  {
   "cell_type": "code",
   "execution_count": null,
   "id": "20d45bc4",
   "metadata": {},
   "outputs": [
    {
     "name": "stdout",
     "output_type": "stream",
     "text": [
      "[12, 23, 45, 25]\n",
      "[85, 95, 25, 15]\n",
      "[30, 32, 35, 5]\n"
     ]
    }
   ],
   "source": [
    "#good\n",
    "for row in matrix:\n",
    "    print(row)"
   ]
  },
  {
   "cell_type": "code",
   "execution_count": 13,
   "id": "8b801471",
   "metadata": {},
   "outputs": [
    {
     "name": "stdout",
     "output_type": "stream",
     "text": [
      "12 23 45 25 85 95 25 15 30 32 35 5 "
     ]
    }
   ],
   "source": [
    "# nested loop for nested list\n",
    "for row in matrix:\n",
    "    for val in row:\n",
    "        print(val,end=' ')"
   ]
  },
  {
   "cell_type": "code",
   "execution_count": 15,
   "id": "97f83db0",
   "metadata": {},
   "outputs": [
    {
     "name": "stdout",
     "output_type": "stream",
     "text": [
      "12 23 45 25 \n",
      "85 95 25 15 \n",
      "30 32 35 5 \n"
     ]
    }
   ],
   "source": [
    "# nested loop for nested list\n",
    "for row in matrix:\n",
    "    for val in row:\n",
    "        print(val, end= ' ')\n",
    "    print()  # change line after each row"
   ]
  },
  {
   "cell_type": "markdown",
   "id": "6cc5e175",
   "metadata": {},
   "source": [
    "# wap to printg the sum of all the value in matrix"
   ]
  },
  {
   "cell_type": "code",
   "execution_count": null,
   "id": "0e1618cd",
   "metadata": {},
   "outputs": [
    {
     "name": "stdout",
     "output_type": "stream",
     "text": [
      "427\n"
     ]
    }
   ],
   "source": [
    "total = 0\n",
    "for row in matrix:\n",
    "    for val in row:\n",
    "        total +=  val \n",
    "print(total)"
   ]
  },
  {
   "cell_type": "markdown",
   "id": "286a9b72",
   "metadata": {},
   "source": [
    "#wap to print the product of all the values in matrix"
   ]
  },
  {
   "cell_type": "code",
   "execution_count": 18,
   "id": "85c44ebe",
   "metadata": {},
   "outputs": [
    {
     "name": "stdout",
     "output_type": "stream",
     "text": [
      "157959112500000000\n"
     ]
    }
   ],
   "source": [
    "total = 1\n",
    "for row in matrix:\n",
    "    for val in row:\n",
    "        total *=  val \n",
    "print(total)"
   ]
  },
  {
   "cell_type": "code",
   "execution_count": null,
   "id": "434318f7",
   "metadata": {},
   "outputs": [
    {
     "name": "stdout",
     "output_type": "stream",
     "text": [
      "[12, 23, 45, 25] => 105\n",
      "[85, 95, 25, 15] => 220\n",
      "[30, 32, 35, 5] => 102\n"
     ]
    }
   ],
   "source": [
    "#Wap to print row wise sum of matrix\n",
    "for row in matrix:\n",
    "    total = 0\n",
    "    for value in row:\n",
    "        total += value\n",
    "    print(row,'=>', total)"
   ]
  },
  {
   "cell_type": "code",
   "execution_count": 24,
   "id": "e1157f2d",
   "metadata": {},
   "outputs": [
    {
     "name": "stdout",
     "output_type": "stream",
     "text": [
      "[12, 23, 45, 25] => 26.2\n",
      "[85, 95, 25, 15] => 55.0\n",
      "[30, 32, 35, 5] => 25.5\n"
     ]
    }
   ],
   "source": [
    "#wap to print row wise average of the values\n",
    "for row in matrix:\n",
    "    total = 0\n",
    "    for value in row:\n",
    "        total += value\n",
    "    avg = round(total/len(row),1)\n",
    "    print(row ,'=>', avg)"
   ]
  },
  {
   "cell_type": "code",
   "execution_count": 28,
   "id": "88d8ae89",
   "metadata": {},
   "outputs": [
    {
     "name": "stdout",
     "output_type": "stream",
     "text": [
      "column 0 => 127\n",
      "column 1 => 150\n",
      "column 2 => 105\n",
      "column 3 => 45\n"
     ]
    }
   ],
   "source": [
    "#wap to print row wise column of the values\n",
    "size = len(matrix[0])\n",
    "for c in range(size):\n",
    "    total = 0\n",
    "    for r in range(len(matrix)):\n",
    "        total += matrix[r][c]\n",
    "    print(f\"column {c} => {total}\")\n"
   ]
  },
  {
   "cell_type": "code",
   "execution_count": null,
   "id": "ab6d3db0",
   "metadata": {},
   "outputs": [
    {
     "name": "stdout",
     "output_type": "stream",
     "text": [
      "column 0 => 31.75\n",
      "column 1 => 37.5\n",
      "column 2 => 26.25\n",
      "column 3 => 11.25\n"
     ]
    }
   ],
   "source": [
    "#wap to print column wise average values\n",
    "size = len(matrix [0])\n",
    "for c in range(size):\n",
    "    total = 0\n",
    "    for r in range(len(matrix)):\n",
    "        total += matrix[r][c]\n",
    "    print(f\"column {c} => {total/4}\")\n",
    "\n"
   ]
  },
  {
   "cell_type": "code",
   "execution_count": 31,
   "id": "ad299ab1",
   "metadata": {},
   "outputs": [
    {
     "name": "stdout",
     "output_type": "stream",
     "text": [
      "1 \n",
      "5 6 \n",
      "9 10 11 \n",
      "13 14 15 16 \n"
     ]
    }
   ],
   "source": [
    "# wap to print the lower bound triangle of a matrix\n",
    "mat2 = [\n",
    "    [1,2,3,4],\n",
    "    [5,6,7,8],\n",
    "    [9,10,11,12],\n",
    "    [13,14,15,16],\n",
    "]\n",
    "for r in range(len(mat2)):\n",
    "    for c in range(len(mat2[0])):\n",
    "        if (c <= r):\n",
    "            print(mat2[r][c], end= \" \")\n",
    "    print()\n"
   ]
  },
  {
   "cell_type": "code",
   "execution_count": 3,
   "id": "605f8dce",
   "metadata": {},
   "outputs": [
    {
     "data": {
      "text/plain": [
       "'vijay'"
      ]
     },
     "execution_count": 3,
     "metadata": {},
     "output_type": "execute_result"
    }
   ],
   "source": [
    "name = \"vijay deenanth chavhan\"\n",
    "name [:5]"
   ]
  },
  {
   "cell_type": "code",
   "execution_count": 4,
   "id": "0c0d93ab",
   "metadata": {},
   "outputs": [
    {
     "data": {
      "text/plain": [
       "'deenanth '"
      ]
     },
     "execution_count": 4,
     "metadata": {},
     "output_type": "execute_result"
    }
   ],
   "source": [
    "name[6:15]"
   ]
  },
  {
   "cell_type": "code",
   "execution_count": 5,
   "id": "df096de9",
   "metadata": {},
   "outputs": [
    {
     "data": {
      "text/plain": [
       "'chavha'"
      ]
     },
     "execution_count": 5,
     "metadata": {},
     "output_type": "execute_result"
    }
   ],
   "source": [
    "name[-7:-1]"
   ]
  },
  {
   "cell_type": "code",
   "execution_count": 6,
   "id": "f2cbf6fa",
   "metadata": {},
   "outputs": [
    {
     "name": "stdout",
     "output_type": "stream",
     "text": [
      "13\n",
      "11\n",
      "9\n",
      "7\n",
      "6\n",
      "4\n",
      "3\n",
      "2\n",
      "1\n"
     ]
    }
   ],
   "source": [
    "x=[1,2,3,4,6,7,9,11,13]\n",
    "for item in x[::-1]:\n",
    "    print(item)\n",
    "   "
   ]
  },
  {
   "cell_type": "code",
   "execution_count": null,
   "id": "134d979f",
   "metadata": {},
   "outputs": [],
   "source": [
    "\n",
    "# Reverse a list in place\n",
    "a=[1,2,3]\n",
    "a[:]    #get all element\n",
    "a[:]=a[::1]"
   ]
  },
  {
   "cell_type": "code",
   "execution_count": 8,
   "id": "ecb34689",
   "metadata": {},
   "outputs": [
    {
     "name": "stdout",
     "output_type": "stream",
     "text": [
      "[1, 2, 3, 4, 5] [3, 4, 5, 1, 2]\n"
     ]
    }
   ],
   "source": [
    "x=[1,2,3,4,5]\n",
    "ans=x[2:]+x[:2]\n",
    "print(x,ans)"
   ]
  },
  {
   "cell_type": "markdown",
   "id": "bb11e701",
   "metadata": {},
   "source": [
    "COMPREHENSION"
   ]
  },
  {
   "cell_type": "markdown",
   "id": "e2547b45",
   "metadata": {},
   "source": [
    "Syntax \n",
    "\n",
    "simple\n",
    "   newlist = [operation forloop]\n",
    "\n",
    "example\n",
    " x2 =[1**2 for i in x]\n",
    " y3 =[a**3 for a in y]\n",
    "     "
   ]
  },
  {
   "cell_type": "markdown",
   "id": "19276bbb",
   "metadata": {},
   "source": [
    "Condition based \n",
    "      newlist = operation loop condition\n",
    "example\n",
    "    xeven = [i for i in x if i%2==0]\n",
    "    songs = [file for file in data if file.endswith('.mp3) ]"
   ]
  },
  {
   "cell_type": "code",
   "execution_count": 15,
   "id": "983602ec",
   "metadata": {},
   "outputs": [
    {
     "name": "stdout",
     "output_type": "stream",
     "text": [
      "[1, 3, 4, 5] [2, 6, 8, 10]\n"
     ]
    }
   ],
   "source": [
    "x=[1,3,4,5]\n",
    "x2=[]\n",
    "for i in x:\n",
    "    s=i*2\n",
    "    x2.append(s)\n",
    "print(x,x2)"
   ]
  },
  {
   "cell_type": "code",
   "execution_count": 16,
   "id": "ddcaaba5",
   "metadata": {},
   "outputs": [
    {
     "name": "stdout",
     "output_type": "stream",
     "text": [
      "[4, 8, 12, 16] [2, 4, 6, 8]\n"
     ]
    }
   ],
   "source": [
    "x=[4,8,12,16]\n",
    "x3=[]\n",
    "for i in x:\n",
    "    x3.append(i//2)\n",
    "print(x,x3)"
   ]
  },
  {
   "cell_type": "code",
   "execution_count": 18,
   "id": "453cff63",
   "metadata": {},
   "outputs": [
    {
     "name": "stdout",
     "output_type": "stream",
     "text": [
      "[1, 2, 3]\n",
      "[4, 5, 6]\n",
      "[5, 7, 9]\n"
     ]
    }
   ],
   "source": [
    "x=[1,2,3]\n",
    "y=[4,5,6]\n",
    "xy=[]\n",
    "for i,j in zip(x,y):\n",
    "    xy.append(i+j)\n",
    "print(x,y,xy,sep=\"\\n\")"
   ]
  },
  {
   "cell_type": "code",
   "execution_count": 20,
   "id": "48feb2b8",
   "metadata": {},
   "outputs": [],
   "source": [
    "z=[2,3,4]\n",
    "zsqr=[]\n",
    "for i in z:\n",
    "    zsqr.append(i**2)"
   ]
  },
  {
   "cell_type": "code",
   "execution_count": 21,
   "id": "a4ae8240",
   "metadata": {},
   "outputs": [],
   "source": [
    "y=[1,2,3]\n",
    "y2=[i*2 for i in y]"
   ]
  },
  {
   "cell_type": "markdown",
   "id": "1b5e030b",
   "metadata": {},
   "source": [
    "Mapping\n",
    "     apply operation on data"
   ]
  },
  {
   "cell_type": "markdown",
   "id": "bc6ff0de",
   "metadata": {},
   "source": [
    "FILTERING\n",
    "     apply filter on data"
   ]
  },
  {
   "cell_type": "code",
   "execution_count": 4,
   "id": "8ced2b8f",
   "metadata": {},
   "outputs": [
    {
     "name": "stdout",
     "output_type": "stream",
     "text": [
      "['Arya', 'Joe', 'RRR', 'OG', 'Rabasa', 'KGF', 'Happy', 'Dhee', 'Billa', 'Darling', 'Mr.perfect', 'Sahoo', 'Vikram', 'Varisu', 'Thunivu']\n",
      "[4, 3, 3, 2, 6, 3, 5, 4, 5, 7, 10, 5, 6, 6, 7]\n"
     ]
    }
   ],
   "source": [
    "movies = ['Arya','Joe','RRR','OG','Rabasa','KGF','Happy','Dhee','Billa','Darling','Mr.perfect','Sahoo','Vikram','Varisu','Thunivu']\n",
    "movielen=[]\n",
    "for movie in movies:\n",
    "    size  = len(movie)\n",
    "    movielen.append(size)\n",
    "print(movies)\n",
    "print(movielen)"
   ]
  },
  {
   "cell_type": "code",
   "execution_count": 5,
   "id": "72df57b2",
   "metadata": {},
   "outputs": [
    {
     "name": "stdout",
     "output_type": "stream",
     "text": [
      "['Arya', 'Joe', 'RRR', 'OG', 'Rabasa', 'KGF', 'Happy', 'Dhee', 'Billa', 'Darling', 'Mr.perfect', 'Sahoo', 'Vikram', 'Varisu', 'Thunivu']\n",
      "[4, 3, 3, 2, 6, 3, 5, 4, 5, 7, 10, 5, 6, 6, 7]\n"
     ]
    }
   ],
   "source": [
    "movielen = [len(movie) for movie in movies]\n",
    "print(movies)\n",
    "print(movielen)"
   ]
  },
  {
   "cell_type": "markdown",
   "id": "30abca3b",
   "metadata": {},
   "source": [
    "Dictionary\n",
    "\n",
    "2 ways to store data in python\n",
    "\n",
    "   1.List -> indexed\n",
    "   2.Dictionary -> key value pair"
   ]
  },
  {
   "cell_type": "code",
   "execution_count": 2,
   "id": "4489e5c2",
   "metadata": {},
   "outputs": [
    {
     "name": "stdout",
     "output_type": "stream",
     "text": [
      "{}\n",
      "<class 'dict'>\n",
      "{}\n",
      "<class 'dict'>\n"
     ]
    }
   ],
   "source": [
    "# creating a dictionary\n",
    "d = {} #empty dict\n",
    "print(d)\n",
    "print(type(d))\n",
    "\n",
    "d2 = dict() #empty dict\n",
    "print(d2)\n",
    "print(type(d2))"
   ]
  },
  {
   "cell_type": "code",
   "execution_count": 4,
   "id": "a06a0a49",
   "metadata": {},
   "outputs": [
    {
     "name": "stdout",
     "output_type": "stream",
     "text": [
      "{'color': 'Orange', 'shape': 'Circle', 'size': '2 meter', 'meterial': 'Plastic'}\n"
     ]
    }
   ],
   "source": [
    "d3 = {\n",
    "    'color' : 'Orange',\n",
    "    'shape' : 'Circle',\n",
    "    'size' : '2 meter',\n",
    "    'meterial' : 'Plastic'\n",
    "}\n",
    "print(d3)"
   ]
  },
  {
   "cell_type": "code",
   "execution_count": 3,
   "id": "e4f8bd96",
   "metadata": {},
   "outputs": [
    {
     "name": "stdout",
     "output_type": "stream",
     "text": [
      "{'fact': 'All keys in a dictionary should be unique', 'fact2': 'Keys are immutable so only string and tuples are allowed as keys', 'fact3': 'Value of a key can be of any type -> str,number,list,dict'}\n"
     ]
    }
   ],
   "source": [
    "info = {\n",
    "    'fact' : 'All keys in a dictionary should be unique',\n",
    "    'fact2' : 'Keys are immutable so only string and tuples are allowed as keys',\n",
    "    'fact3' : 'Value of a key can be of any type -> str,number,list,dict'\n",
    "}\n",
    "print(info)"
   ]
  },
  {
   "cell_type": "code",
   "execution_count": 13,
   "id": "56e31d6b",
   "metadata": {},
   "outputs": [
    {
     "name": "stdout",
     "output_type": "stream",
     "text": [
      "{'name': 'Mobile', 'price': 79999, 'features': {'camera': '48mp', 'os': 18, 'Ram': '8 gb'}, 'brand': 'Apple', 'model': 'Iphone 18', 'popular': True, 'value for money': False, 'colors': ['Orange', 'Black', 'Blue', 'White']}\n"
     ]
    }
   ],
   "source": [
    "product ={\n",
    "    'name' : 'Mobile',\n",
    "    'price' : 79999,\n",
    "    'features' : {'camera':'48mp','os' :18,'Ram' :'8 gb'},\n",
    "    'brand' : 'Apple',\n",
    "    'model' : 'Iphone 18',\n",
    "    'popular' : True,\n",
    "    'value for money' : False,\n",
    "    'colors' : ['Orange','Black','Blue','White']\n",
    "    }\n",
    "print(product)"
   ]
  },
  {
   "cell_type": "markdown",
   "id": "42c3a9f8",
   "metadata": {},
   "source": [
    "getting data from dictionary"
   ]
  },
  {
   "cell_type": "code",
   "execution_count": 14,
   "id": "8725d457",
   "metadata": {},
   "outputs": [
    {
     "data": {
      "text/plain": [
       "79999"
      ]
     },
     "execution_count": 14,
     "metadata": {},
     "output_type": "execute_result"
    }
   ],
   "source": [
    "product['price']"
   ]
  },
  {
   "cell_type": "code",
   "execution_count": 15,
   "id": "c6a01f07",
   "metadata": {},
   "outputs": [
    {
     "data": {
      "text/plain": [
       "{'camera': '48mp', 'os': 18, 'Ram': '8 gb'}"
      ]
     },
     "execution_count": 15,
     "metadata": {},
     "output_type": "execute_result"
    }
   ],
   "source": [
    "product['features']"
   ]
  },
  {
   "cell_type": "code",
   "execution_count": 16,
   "id": "3c89d4d9",
   "metadata": {},
   "outputs": [
    {
     "data": {
      "text/plain": [
       "dict_values(['Mobile', 79999, {'camera': '48mp', 'os': 18, 'Ram': '8 gb'}, 'Apple', 'Iphone 18', True, False, ['Orange', 'Black', 'Blue', 'White']])"
      ]
     },
     "execution_count": 16,
     "metadata": {},
     "output_type": "execute_result"
    }
   ],
   "source": [
    "product.values()"
   ]
  },
  {
   "cell_type": "code",
   "execution_count": 17,
   "id": "64404469",
   "metadata": {},
   "outputs": [
    {
     "data": {
      "text/plain": [
       "dict_keys(['name', 'price', 'features', 'brand', 'model', 'popular', 'value for money', 'colors'])"
      ]
     },
     "execution_count": 17,
     "metadata": {},
     "output_type": "execute_result"
    }
   ],
   "source": [
    "product.keys()"
   ]
  },
  {
   "cell_type": "code",
   "execution_count": 18,
   "id": "b008ae9c",
   "metadata": {},
   "outputs": [
    {
     "data": {
      "text/plain": [
       "dict_items([('name', 'Mobile'), ('price', 79999), ('features', {'camera': '48mp', 'os': 18, 'Ram': '8 gb'}), ('brand', 'Apple'), ('model', 'Iphone 18'), ('popular', True), ('value for money', False), ('colors', ['Orange', 'Black', 'Blue', 'White'])])"
      ]
     },
     "execution_count": 18,
     "metadata": {},
     "output_type": "execute_result"
    }
   ],
   "source": [
    "product.items()"
   ]
  },
  {
   "cell_type": "code",
   "execution_count": 19,
   "id": "31720ee1",
   "metadata": {},
   "outputs": [
    {
     "name": "stdout",
     "output_type": "stream",
     "text": [
      "Iphone 18\n",
      "{'camera': '48mp', 'os': 18, 'Ram': '8 gb'}\n",
      "79999\n",
      "None\n",
      "Apple\n"
     ]
    }
   ],
   "source": [
    "print(product.get('model'))\n",
    "print(product.get('features'))\n",
    "print(product.get('price'))\n",
    "print(product.get('discount'))  #this is not in the dict error will not come\n",
    "print(product.get('brand'))"
   ]
  },
  {
   "cell_type": "code",
   "execution_count": 20,
   "id": "304ae318",
   "metadata": {},
   "outputs": [
    {
     "name": "stdout",
     "output_type": "stream",
     "text": [
      "{'name': 'William Shakespeare'}\n",
      "{'name': 'William Shakespeare', 'books': ['Julias Ceaser', 'Merchant of venice']}\n",
      "{'name': 'William Shakespeare', 'books': ['Julias Ceaser', 'Merchant of venice'], 'born': 'April 1564', 'died': 'April 1616', 'overview': 'A english playwright, poet and actor.\\n\"Regarded as the greatest writer in english.'}\n"
     ]
    }
   ],
   "source": [
    "#adding data into dictionary\n",
    "d['name']=\"William Shakespeare\"\n",
    "print(d)\n",
    "d['books']=['Julias Ceaser','Merchant of venice']\n",
    "print(d)\n",
    "d['born']=\"April 1564\"\n",
    "d['died']=\"April 1616\"\n",
    "d['overview']='''A english playwright, poet and actor.\n",
    "\"Regarded as the greatest writer in english.'''\n",
    "print(d)"
   ]
  },
  {
   "cell_type": "code",
   "execution_count": 22,
   "id": "3b714aab",
   "metadata": {},
   "outputs": [
    {
     "name": "stdout",
     "output_type": "stream",
     "text": [
      "contact book\n",
      "search contact\n",
      "💀 contact not found\n",
      "okay ☹️\n",
      "👋 Bye\n"
     ]
    }
   ],
   "source": [
    "contacts={\n",
    "    'emergency':108\n",
    "}\n",
    "print(\"contact book\")\n",
    "while True:\n",
    "    print(\"search contact\")\n",
    "    name = input(\"Name 👉 \")\n",
    "    if name in contacts:\n",
    "        print(\"🔎 contact found\")\n",
    "        print(name,'👈',contacts.get(name))\n",
    "    else:\n",
    "        print(\"💀 contact not found\")\n",
    "        ch = input(\"Do you want to add it?.Y/n: \")\n",
    "        if ch =='Y':\n",
    "            num =input(f\"enter {name}'s number: \")\n",
    "            contacts[name] = num\n",
    "            print(\"✅ success! contact added\")\n",
    "        else:\n",
    "            print(\"okay ☹️\")\n",
    "    quit = input(\"Do you want to continue? Y/n\")\n",
    "    if quit != 'Y' or quit !='y':\n",
    "        print(\"👋 Bye\")\n",
    "        break\n"
   ]
  },
  {
   "cell_type": "code",
   "execution_count": null,
   "id": "5519f0d0",
   "metadata": {},
   "outputs": [],
   "source": []
  }
 ],
 "metadata": {
  "kernelspec": {
   "display_name": "Python 3",
   "language": "python",
   "name": "python3"
  },
  "language_info": {
   "codemirror_mode": {
    "name": "ipython",
    "version": 3
   },
   "file_extension": ".py",
   "mimetype": "text/x-python",
   "name": "python",
   "nbconvert_exporter": "python",
   "pygments_lexer": "ipython3",
   "version": "3.13.6"
  }
 },
 "nbformat": 4,
 "nbformat_minor": 5
}
