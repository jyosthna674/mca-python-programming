{
 "cells": [
  {
   "cell_type": "markdown",
   "id": "8ba6852c",
   "metadata": {},
   "source": [
    "Adding elements\n",
    "    1 . append() -> add one element to the end of the list\n",
    "    2 . insert() -> add one element to a specific position\n",
    "    3 . extend() -> append multiple items in a list\n",
    "\n",
    "Removing elements\n",
    "    1.remove() -> remove the first occurence of a value\n",
    "    2.pop() -> remove and return an element from an index\n",
    "    3.clear() -> remove all elements from the list\n",
    "\n",
    "\n",
    "\n"
   ]
  },
  {
   "cell_type": "code",
   "execution_count": 1,
   "id": "3b02596e",
   "metadata": {},
   "outputs": [
    {
     "name": "stdout",
     "output_type": "stream",
     "text": [
      "size of movies list 12\n"
     ]
    }
   ],
   "source": [
    "movies = ['Arya','Joe','RRR','OG','Rabasa','KGF','Happy','Dhee','Billa','Darling','Mr.perfect','Sahoo']\n",
    "print(\"size of movies list\",len(movies))"
   ]
  },
  {
   "cell_type": "code",
   "execution_count": null,
   "id": "c3a9c18c",
   "metadata": {},
   "outputs": [
    {
     "name": "stdout",
     "output_type": "stream",
     "text": [
      "['Arya', 'Joe', 'RRR', 'OG', 'Rabasa', 'Happy', 'Dhee', 'Billa', 'Darling', 'Mr.perfect', 'Sahoo']\n"
     ]
    }
   ],
   "source": [
    "#remove()\n",
    "movies.remove(\"KGF\")\n",
    "print(movies)"
   ]
  },
  {
   "cell_type": "code",
   "execution_count": null,
   "id": "b779339f",
   "metadata": {},
   "outputs": [
    {
     "name": "stdout",
     "output_type": "stream",
     "text": [
      "['Arya', 'RRR', 'OG', 'Rabasa', 'Happy', 'Dhee', 'Billa', 'Darling', 'Mr.perfect', 'Sahoo']\n"
     ]
    }
   ],
   "source": [
    "#validation based removal\n",
    "if \"Joe\" in movies:\n",
    "    movies.remove(\"Joe\")\n",
    "print(movies)"
   ]
  },
  {
   "cell_type": "code",
   "execution_count": null,
   "id": "dd8752ef",
   "metadata": {},
   "outputs": [
    {
     "data": {
      "text/plain": [
       "'Rabasa'"
      ]
     },
     "execution_count": 5,
     "metadata": {},
     "output_type": "execute_result"
    }
   ],
   "source": [
    "#pop()\n",
    "movies.pop(3)"
   ]
  },
  {
   "cell_type": "code",
   "execution_count": 6,
   "id": "135df6b2",
   "metadata": {},
   "outputs": [
    {
     "name": "stdout",
     "output_type": "stream",
     "text": [
      "['Arya', 'RRR', 'OG', 'Happy', 'Dhee', 'Billa', 'Darling', 'Mr.perfect', 'Sahoo']\n",
      "9\n"
     ]
    }
   ],
   "source": [
    "print(movies)\n",
    "print(len(movies))"
   ]
  },
  {
   "cell_type": "code",
   "execution_count": 7,
   "id": "fdc112a9",
   "metadata": {},
   "outputs": [
    {
     "data": {
      "text/plain": [
       "'Sahoo'"
      ]
     },
     "execution_count": 7,
     "metadata": {},
     "output_type": "execute_result"
    }
   ],
   "source": [
    "#pop() without any index will remove the list \n",
    "movies.pop()"
   ]
  },
  {
   "cell_type": "code",
   "execution_count": 9,
   "id": "bb0d27ff",
   "metadata": {},
   "outputs": [],
   "source": [
    "languages = ['c','Python','Kotlin','Java','Dart','Go','C++','C#','Html','Java script','Scale','Rust','Mojo','Assembly']\n",
    "numbers = [12,56,23,67,13,23,12,56,23,56,12,34,23,23,12,34,34,23,53,92]\n",
    "data = [1, 'apple', 2, 'Avacado', 3, 'Apricot']"
   ]
  },
  {
   "cell_type": "code",
   "execution_count": 10,
   "id": "29c79ba0",
   "metadata": {},
   "outputs": [
    {
     "data": {
      "text/plain": [
       "4"
      ]
     },
     "execution_count": 10,
     "metadata": {},
     "output_type": "execute_result"
    }
   ],
   "source": [
    "numbers.count(12)  # counts how many time 12 occurs in list"
   ]
  },
  {
   "cell_type": "code",
   "execution_count": 11,
   "id": "b450b6d4",
   "metadata": {},
   "outputs": [
    {
     "name": "stdout",
     "output_type": "stream",
     "text": [
      "0\n",
      "6\n",
      "3\n"
     ]
    }
   ],
   "source": [
    "print(numbers.count(1))\n",
    "print(numbers.count(23))\n",
    "print(numbers.count(56))"
   ]
  },
  {
   "cell_type": "code",
   "execution_count": 15,
   "id": "915fa1cf",
   "metadata": {},
   "outputs": [
    {
     "data": {
      "text/plain": [
       "7"
      ]
     },
     "execution_count": 15,
     "metadata": {},
     "output_type": "execute_result"
    }
   ],
   "source": [
    "languages.index('C#')   # 7th index in my list"
   ]
  },
  {
   "cell_type": "code",
   "execution_count": 17,
   "id": "606ff2f3",
   "metadata": {},
   "outputs": [
    {
     "name": "stdout",
     "output_type": "stream",
     "text": [
      "0\n",
      "3\n",
      "1\n"
     ]
    }
   ],
   "source": [
    "print(languages.index(\"c\"))\n",
    "print(languages.index(\"Java\"))\n",
    "print(languages.index(\"Python\"))\n",
    "#print(languages.index(Lisp))"
   ]
  },
  {
   "cell_type": "code",
   "execution_count": 18,
   "id": "bf2078a3",
   "metadata": {},
   "outputs": [
    {
     "name": "stdout",
     "output_type": "stream",
     "text": [
      "original ['c', 'Python', 'Kotlin', 'Java', 'Dart', 'Go', 'C++', 'C#', 'Html', 'Java script', 'Scale', 'Rust', 'Mojo', 'Assembly']\n",
      "sorted ['Assembly', 'C#', 'C++', 'Dart', 'Go', 'Html', 'Java', 'Java script', 'Kotlin', 'Mojo', 'Python', 'Rust', 'Scale', 'c']\n",
      "Sorted in reverse  ['c', 'Scale', 'Rust', 'Python', 'Mojo', 'Kotlin', 'Java script', 'Java', 'Html', 'Go', 'Dart', 'C++', 'C#', 'Assembly']\n"
     ]
    }
   ],
   "source": [
    "print(\"original\", languages)\n",
    "languages.sort()\n",
    "print(\"sorted\", languages)\n",
    "languages.sort(reverse=True)\n",
    "print(\"Sorted in reverse \",languages)"
   ]
  },
  {
   "cell_type": "code",
   "execution_count": null,
   "id": "e3e1a5e0",
   "metadata": {},
   "outputs": [],
   "source": [
    "print(\"original\",data)\n",
    "data."
   ]
  }
 ],
 "metadata": {
  "kernelspec": {
   "display_name": "Python 3",
   "language": "python",
   "name": "python3"
  },
  "language_info": {
   "codemirror_mode": {
    "name": "ipython",
    "version": 3
   },
   "file_extension": ".py",
   "mimetype": "text/x-python",
   "name": "python",
   "nbconvert_exporter": "python",
   "pygments_lexer": "ipython3",
   "version": "3.13.6"
  }
 },
 "nbformat": 4,
 "nbformat_minor": 5
}
