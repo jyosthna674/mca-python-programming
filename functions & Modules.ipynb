{
 "cells": [
  {
   "cell_type": "code",
   "execution_count": 2,
   "id": "0473b6c5",
   "metadata": {},
   "outputs": [
    {
     "name": "stdout",
     "output_type": "stream",
     "text": [
      "even\n"
     ]
    }
   ],
   "source": [
    "n = input('enter value')\n",
    "if int(n) % 2 == 0:\n",
    "    print('even')\n",
    "else:\n",
    "    print('odd')"
   ]
  },
  {
   "cell_type": "markdown",
   "id": "e46c299f",
   "metadata": {},
   "source": [
    "Functions are 2 types\n",
    "       1. User defined\n",
    "       2. Pre defined\n",
    "          Ex: print()\n",
    "              input()\n",
    "              str()\n",
    "              len()\n",
    "\n",
    "Based on function i/o, 4 types of functions\n",
    " (1) user defined\n",
    "        a. Closed function [logic]\n",
    "        b. Parameterized function [input (parameter)]->[logic]\n",
    "        c. Function returning value [logic]->[output(return value)]\n",
    "        d. Parameterized value returning function [IN] ->[fn]->[out(return value)]\n",
    "\n",
    "Parameter types for function\n",
    "    1. Required parameter\n",
    "    2. Default parameter\n",
    "    3. Variable argument\n",
    "\n",
    "Specialized functions\n",
    "     1. Anonymous functions(lambda expressions)\n",
    "     2. Generation function\n",
    "      "
   ]
  },
  {
   "cell_type": "markdown",
   "id": "b68da0bd",
   "metadata": {},
   "source": [
    "Syntax\n",
    "\n",
    "    def fun_name([param1,param2,...]):\n",
    "    statement 1\n",
    "    statement 2\n",
    "    :\n",
    "    statement n\n",
    "    [return value]"
   ]
  },
  {
   "cell_type": "code",
   "execution_count": 1,
   "id": "5ba239ee",
   "metadata": {},
   "outputs": [
    {
     "name": "stdout",
     "output_type": "stream",
     "text": [
      "deepavali\n"
     ]
    }
   ],
   "source": [
    "def greeting():\n",
    "  print(\"happy\")\n",
    "print(\"deepavali\")"
   ]
  },
  {
   "cell_type": "code",
   "execution_count": 5,
   "id": "d71ef847",
   "metadata": {},
   "outputs": [],
   "source": [
    "def total(a ,b, c):\n",
    "    ans = a + b + c\n",
    "    print(f'total={ans}')"
   ]
  },
  {
   "cell_type": "code",
   "execution_count": 6,
   "id": "ba3f4f6c",
   "metadata": {},
   "outputs": [
    {
     "name": "stdout",
     "output_type": "stream",
     "text": [
      "total=60\n",
      "<function total at 0x000001D76742C7C0>\n"
     ]
    }
   ],
   "source": [
    "total(10,20,30)\n",
    "print(total)"
   ]
  },
  {
   "cell_type": "code",
   "execution_count": 7,
   "id": "3ac8d4af",
   "metadata": {},
   "outputs": [
    {
     "name": "stdout",
     "output_type": "stream",
     "text": [
      "total=29\n",
      "<function total at 0x000001D76742C7C0>\n"
     ]
    }
   ],
   "source": [
    "total(1,15,13)\n",
    "print(total)"
   ]
  },
  {
   "cell_type": "code",
   "execution_count": 8,
   "id": "1e9f5bc2",
   "metadata": {},
   "outputs": [
    {
     "name": "stdout",
     "output_type": "stream",
     "text": [
      "hello\n",
      "hello\n",
      "hello\n"
     ]
    }
   ],
   "source": [
    "def msg():\n",
    "    print(\"hello\")\n",
    "msg()\n",
    "msg()\n",
    "msg()"
   ]
  },
  {
   "cell_type": "code",
   "execution_count": null,
   "id": "84c7d8c9",
   "metadata": {},
   "outputs": [
    {
     "name": "stdout",
     "output_type": "stream",
     "text": [
      "6\n",
      "2625\n",
      "75\n"
     ]
    }
   ],
   "source": [
    "def mul(a,b):\n",
    "    print(a*b)\n",
    "mul(2,3)\n",
    "mul(15,175)\n",
    "mul(5,15)\n",
    "mul()         #error\n",
    "mul(10)       #error\n",
    "mul('a','b')  #error\n"
   ]
  },
  {
   "cell_type": "code",
   "execution_count": 24,
   "id": "8cd9a513",
   "metadata": {},
   "outputs": [
    {
     "data": {
      "text/plain": [
       "5.477225575051661"
      ]
     },
     "execution_count": 24,
     "metadata": {},
     "output_type": "execute_result"
    }
   ],
   "source": [
    "import math\n",
    "def hyp(p,b):\n",
    "    ans =math.sqrt(p*2+b*2)\n",
    "    return ans\n",
    "hyp(10,5)"
   ]
  },
  {
   "cell_type": "code",
   "execution_count": null,
   "id": "d80bce23",
   "metadata": {},
   "outputs": [
    {
     "data": {
      "text/plain": [
       "False"
      ]
     },
     "execution_count": 29,
     "metadata": {},
     "output_type": "execute_result"
    }
   ],
   "source": [
    "def is_even(num):\n",
    "    if num %2 ==0:\n",
    "        return True     \n",
    "    else:\n",
    "        return False\n",
    "is_even(15)\n"
   ]
  },
  {
   "cell_type": "code",
   "execution_count": 31,
   "id": "fd806681",
   "metadata": {},
   "outputs": [
    {
     "name": "stdout",
     "output_type": "stream",
     "text": [
      "Good job\n"
     ]
    }
   ],
   "source": [
    "x = int(input('enter even'))\n",
    "if is_even(x):\n",
    "    print(\"Good job\")\n",
    "else:\n",
    "    print(\"you are stupid\")\n"
   ]
  },
  {
   "cell_type": "markdown",
   "id": "56e91748",
   "metadata": {},
   "source": [
    "convention while creating function\n",
    "\n",
    "     1 . Dont take input inside function\n",
    "     2 . Return the value from the function\n",
    "     3 . Use parameter to pass input to function\n",
    "     4 . Keep it small & simple"
   ]
  },
  {
   "cell_type": "markdown",
   "id": "f8c6f946",
   "metadata": {},
   "source": [
    "1. Required parameter"
   ]
  },
  {
   "cell_type": "code",
   "execution_count": 3,
   "id": "e6334f2e",
   "metadata": {},
   "outputs": [],
   "source": [
    "def area(l,b):\n",
    "    return l*b\n",
    "    "
   ]
  },
  {
   "cell_type": "code",
   "execution_count": 4,
   "id": "5c805a81",
   "metadata": {},
   "outputs": [
    {
     "name": "stdout",
     "output_type": "stream",
     "text": [
      "50\n"
     ]
    }
   ],
   "source": [
    "ans = area(10,5)\n",
    "print(ans)"
   ]
  },
  {
   "cell_type": "code",
   "execution_count": 5,
   "id": "3c4fc94a",
   "metadata": {},
   "outputs": [
    {
     "ename": "TypeError",
     "evalue": "area() missing 2 required positional arguments: 'l' and 'b'",
     "output_type": "error",
     "traceback": [
      "\u001b[31m---------------------------------------------------------------------------\u001b[39m",
      "\u001b[31mTypeError\u001b[39m                                 Traceback (most recent call last)",
      "\u001b[36mCell\u001b[39m\u001b[36m \u001b[39m\u001b[32mIn[5]\u001b[39m\u001b[32m, line 1\u001b[39m\n\u001b[32m----> \u001b[39m\u001b[32m1\u001b[39m ans = \u001b[43marea\u001b[49m\u001b[43m(\u001b[49m\u001b[43m)\u001b[49m\n",
      "\u001b[31mTypeError\u001b[39m: area() missing 2 required positional arguments: 'l' and 'b'"
     ]
    }
   ],
   "source": [
    "ans = area()"
   ]
  },
  {
   "cell_type": "markdown",
   "id": "89e2d8f1",
   "metadata": {},
   "source": [
    "2. Named parameter cells"
   ]
  },
  {
   "cell_type": "code",
   "execution_count": 10,
   "id": "818732dd",
   "metadata": {},
   "outputs": [
    {
     "name": "stdout",
     "output_type": "stream",
     "text": [
      "65\n"
     ]
    }
   ],
   "source": [
    "res=area(l=5,b=13)\n",
    "print(res)"
   ]
  },
  {
   "cell_type": "code",
   "execution_count": 1,
   "id": "ad2f28df",
   "metadata": {},
   "outputs": [],
   "source": [
    "def si(p,r,t):\n",
    "    return p*r*t/100"
   ]
  },
  {
   "cell_type": "code",
   "execution_count": 12,
   "id": "c058f03b",
   "metadata": {},
   "outputs": [
    {
     "name": "stdout",
     "output_type": "stream",
     "text": [
      "1650.0\n"
     ]
    }
   ],
   "source": [
    "interest = si(p=10000,r=3.3,t=5)\n",
    "print(interest)"
   ]
  },
  {
   "cell_type": "markdown",
   "id": "1f06fdec",
   "metadata": {},
   "source": [
    "3.default parameters\n",
    "     Rules\n",
    "     1.Defalut parameter always put at last\n",
    "     2.It begin at right side\n",
    "     3."
   ]
  },
  {
   "cell_type": "code",
   "execution_count": 13,
   "id": "87c6d49b",
   "metadata": {},
   "outputs": [],
   "source": [
    "def pow(n,e=2):\n",
    "    return n**e"
   ]
  },
  {
   "cell_type": "code",
   "execution_count": 14,
   "id": "afc0fc9f",
   "metadata": {},
   "outputs": [
    {
     "name": "stdout",
     "output_type": "stream",
     "text": [
      "1000\n",
      "100\n"
     ]
    }
   ],
   "source": [
    "print(pow(10,3))\n",
    "print(pow(10))"
   ]
  },
  {
   "cell_type": "code",
   "execution_count": 15,
   "id": "fc944f49",
   "metadata": {},
   "outputs": [],
   "source": [
    "def adder(a,b=0,c=0,d=0):\n",
    "    return a+b+c+d"
   ]
  },
  {
   "cell_type": "code",
   "execution_count": null,
   "id": "6f96e8d5",
   "metadata": {},
   "outputs": [
    {
     "data": {
      "text/plain": [
       "10"
      ]
     },
     "execution_count": 16,
     "metadata": {},
     "output_type": "execute_result"
    }
   ],
   "source": [
    "adder(10)"
   ]
  },
  {
   "cell_type": "code",
   "execution_count": 17,
   "id": "f344aa02",
   "metadata": {},
   "outputs": [
    {
     "data": {
      "text/plain": [
       "9"
      ]
     },
     "execution_count": 17,
     "metadata": {},
     "output_type": "execute_result"
    }
   ],
   "source": [
    "adder(5,4)"
   ]
  },
  {
   "cell_type": "code",
   "execution_count": 22,
   "id": "2b2a347f",
   "metadata": {},
   "outputs": [
    {
     "data": {
      "text/plain": [
       "10"
      ]
     },
     "execution_count": 22,
     "metadata": {},
     "output_type": "execute_result"
    }
   ],
   "source": [
    "adder(2,3,5)"
   ]
  },
  {
   "cell_type": "code",
   "execution_count": 19,
   "id": "7fee6f9d",
   "metadata": {},
   "outputs": [
    {
     "data": {
      "text/plain": [
       "14"
      ]
     },
     "execution_count": 19,
     "metadata": {},
     "output_type": "execute_result"
    }
   ],
   "source": [
    "adder(5,4,3,2)"
   ]
  },
  {
   "cell_type": "code",
   "execution_count": null,
   "id": "a5f315a8",
   "metadata": {},
   "outputs": [
    {
     "data": {
      "text/plain": [
       "22"
      ]
     },
     "execution_count": 23,
     "metadata": {},
     "output_type": "execute_result"
    }
   ],
   "source": [
    "adder(a=10,c=10,d=2)"
   ]
  },
  {
   "cell_type": "code",
   "execution_count": 24,
   "id": "66a64179",
   "metadata": {},
   "outputs": [
    {
     "name": "stdout",
     "output_type": "stream",
     "text": [
      "hola\n"
     ]
    }
   ],
   "source": [
    "def h1():\n",
    "    print(\"hola\")\n",
    "h1()"
   ]
  },
  {
   "cell_type": "code",
   "execution_count": 25,
   "id": "888a94c3",
   "metadata": {},
   "outputs": [],
   "source": [
    "def ctof(val):\n",
    "    f=(val*9/5)+32\n",
    "    return f"
   ]
  },
  {
   "cell_type": "code",
   "execution_count": null,
   "id": "08d19614",
   "metadata": {},
   "outputs": [],
   "source": []
  }
 ],
 "metadata": {
  "kernelspec": {
   "display_name": "Python 3",
   "language": "python",
   "name": "python3"
  },
  "language_info": {
   "codemirror_mode": {
    "name": "ipython",
    "version": 3
   },
   "file_extension": ".py",
   "mimetype": "text/x-python",
   "name": "python",
   "nbconvert_exporter": "python",
   "pygments_lexer": "ipython3",
   "version": "3.13.6"
  }
 },
 "nbformat": 4,
 "nbformat_minor": 5
}
