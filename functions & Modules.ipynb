{
 "cells": [
  {
   "cell_type": "code",
   "execution_count": 2,
   "id": "0473b6c5",
   "metadata": {},
   "outputs": [
    {
     "name": "stdout",
     "output_type": "stream",
     "text": [
      "even\n"
     ]
    }
   ],
   "source": [
    "n = input('enter value')\n",
    "if int(n) % 2 == 0:\n",
    "    print('even')\n",
    "else:\n",
    "    print('odd')"
   ]
  },
  {
   "cell_type": "markdown",
   "id": "e46c299f",
   "metadata": {},
   "source": [
    "Functions are 2 types\n",
    "       1. User defined\n",
    "       2. Pre defined\n",
    "          Ex: print()\n",
    "              input()\n",
    "              str()\n",
    "              len()\n",
    "\n",
    "Based on function i/o, 4 types of functions\n",
    " (1) user defined\n",
    "        a. Closed function [logic]\n",
    "        b. Parameterized function [input (parameter)]->[logic]\n",
    "        c. Function returning value [logic]->[output(return value)]\n",
    "        d. Parameterized value returning function [IN] ->[fn]->[out(return value)]\n",
    "\n",
    "Parameter types for function\n",
    "    1. Required parameter\n",
    "    2. Default parameter\n",
    "    3. Variable argument\n",
    "\n",
    "Specialized functions\n",
    "     1. Anonymous functions(lambda expressions)\n",
    "     2. Generation function\n",
    "      "
   ]
  },
  {
   "cell_type": "markdown",
   "id": "b68da0bd",
   "metadata": {},
   "source": [
    "Syntax\n",
    "\n",
    "    def fun_name([param1,param2,...]):\n",
    "    statement 1\n",
    "    statement 2\n",
    "    :\n",
    "    statement n\n",
    "    [return value]"
   ]
  },
  {
   "cell_type": "code",
   "execution_count": 1,
   "id": "5ba239ee",
   "metadata": {},
   "outputs": [
    {
     "name": "stdout",
     "output_type": "stream",
     "text": [
      "deepavali\n"
     ]
    }
   ],
   "source": [
    "def greeting():\n",
    "  print(\"happy\")\n",
    "print(\"deepavali\")"
   ]
  },
  {
   "cell_type": "code",
   "execution_count": 5,
   "id": "d71ef847",
   "metadata": {},
   "outputs": [],
   "source": [
    "def total(a ,b, c):\n",
    "    ans = a + b + c\n",
    "    print(f'total={ans}')"
   ]
  },
  {
   "cell_type": "code",
   "execution_count": 6,
   "id": "ba3f4f6c",
   "metadata": {},
   "outputs": [
    {
     "name": "stdout",
     "output_type": "stream",
     "text": [
      "total=60\n",
      "<function total at 0x000001D76742C7C0>\n"
     ]
    }
   ],
   "source": [
    "total(10,20,30)\n",
    "print(total)"
   ]
  },
  {
   "cell_type": "code",
   "execution_count": 7,
   "id": "3ac8d4af",
   "metadata": {},
   "outputs": [
    {
     "name": "stdout",
     "output_type": "stream",
     "text": [
      "total=29\n",
      "<function total at 0x000001D76742C7C0>\n"
     ]
    }
   ],
   "source": [
    "total(1,15,13)\n",
    "print(total)"
   ]
  },
  {
   "cell_type": "code",
   "execution_count": 8,
   "id": "1e9f5bc2",
   "metadata": {},
   "outputs": [
    {
     "name": "stdout",
     "output_type": "stream",
     "text": [
      "hello\n",
      "hello\n",
      "hello\n"
     ]
    }
   ],
   "source": [
    "def msg():\n",
    "    print(\"hello\")\n",
    "msg()\n",
    "msg()\n",
    "msg()"
   ]
  },
  {
   "cell_type": "code",
   "execution_count": null,
   "id": "84c7d8c9",
   "metadata": {},
   "outputs": [
    {
     "name": "stdout",
     "output_type": "stream",
     "text": [
      "6\n",
      "2625\n",
      "75\n"
     ]
    }
   ],
   "source": [
    "def mul(a,b):\n",
    "    print(a*b)\n",
    "mul(2,3)\n",
    "mul(15,175)\n",
    "mul(5,15)\n",
    "mul()         #error\n",
    "mul(10)       #error\n",
    "mul('a','b')  #error\n"
   ]
  },
  {
   "cell_type": "code",
   "execution_count": 24,
   "id": "8cd9a513",
   "metadata": {},
   "outputs": [
    {
     "data": {
      "text/plain": [
       "5.477225575051661"
      ]
     },
     "execution_count": 24,
     "metadata": {},
     "output_type": "execute_result"
    }
   ],
   "source": [
    "import math\n",
    "def hyp(p,b):\n",
    "    ans =math.sqrt(p*2+b*2)\n",
    "    return ans\n",
    "hyp(10,5)"
   ]
  },
  {
   "cell_type": "code",
   "execution_count": null,
   "id": "d80bce23",
   "metadata": {},
   "outputs": [
    {
     "data": {
      "text/plain": [
       "False"
      ]
     },
     "execution_count": 29,
     "metadata": {},
     "output_type": "execute_result"
    }
   ],
   "source": [
    "def is_even(num):\n",
    "    if num %2 ==0:\n",
    "        return True     \n",
    "    else:\n",
    "        return False\n",
    "is_even(15)\n"
   ]
  },
  {
   "cell_type": "code",
   "execution_count": 31,
   "id": "fd806681",
   "metadata": {},
   "outputs": [
    {
     "name": "stdout",
     "output_type": "stream",
     "text": [
      "Good job\n"
     ]
    }
   ],
   "source": [
    "x = int(input('enter even'))\n",
    "if is_even(x):\n",
    "    print(\"Good job\")\n",
    "else:\n",
    "    print(\"you are stupid\")\n"
   ]
  },
  {
   "cell_type": "markdown",
   "id": "56e91748",
   "metadata": {},
   "source": [
    "convention while creating function\n",
    "\n",
    "     1 . Dont take input inside function\n",
    "     2 . Return the value from the function\n",
    "     3 . Use parameter to pass input to function\n",
    "     4 . Keep it small & simple"
   ]
  },
  {
   "cell_type": "code",
   "execution_count": null,
   "id": "e6334f2e",
   "metadata": {},
   "outputs": [],
   "source": []
  }
 ],
 "metadata": {
  "kernelspec": {
   "display_name": "Python 3",
   "language": "python",
   "name": "python3"
  },
  "language_info": {
   "codemirror_mode": {
    "name": "ipython",
    "version": 3
   },
   "file_extension": ".py",
   "mimetype": "text/x-python",
   "name": "python",
   "nbconvert_exporter": "python",
   "pygments_lexer": "ipython3",
   "version": "3.13.6"
  }
 },
 "nbformat": 4,
 "nbformat_minor": 5
}
