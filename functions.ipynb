{
 "cells": [
  {
   "cell_type": "code",
   "execution_count": 3,
   "id": "c19d11fc",
   "metadata": {},
   "outputs": [
    {
     "name": "stdout",
     "output_type": "stream",
     "text": [
      "🌟🌟🌟🌟🌟\n",
      "Good morning\n",
      "🌟🌟🌟🌟🌟\n"
     ]
    }
   ],
   "source": [
    "#definination\n",
    "def greeting():\n",
    "    print(\"🌟\"*5)\n",
    "    print(\"Good morning\")\n",
    "    print(\"🌟\"*5)\n",
    "#call\n",
    "greeting()      # no parameter and no return value"
   ]
  },
  {
   "cell_type": "code",
   "execution_count": 9,
   "id": "8384fec8",
   "metadata": {},
   "outputs": [
    {
     "name": "stdout",
     "output_type": "stream",
     "text": [
      "3️⃣\n",
      "👍\n",
      "✌️\n",
      "👍\n",
      "🍀\n"
     ]
    }
   ],
   "source": [
    "# value returning functions \n",
    "def dice_roll():\n",
    "    import random\n",
    "    out={1:'👍',2:'✌️',3:'3️⃣',4:'🍀',5:'🖐️',6:'👑'}\n",
    "    value = random.randint(1,6)       #select a random num between 1   -6\n",
    "    return out.get(value)      #return the icon from the dict using value\n",
    "#calls\n",
    "print(dice_roll())\n",
    "print(dice_roll())\n",
    "print(dice_roll())\n",
    "print(dice_roll())\n",
    "print(dice_roll())\n"
   ]
  },
  {
   "cell_type": "code",
   "execution_count": 11,
   "id": "f61f3397",
   "metadata": {},
   "outputs": [
    {
     "name": "stdout",
     "output_type": "stream",
     "text": [
      "False\n",
      "True\n",
      "True\n",
      "False\n"
     ]
    }
   ],
   "source": [
    "def is_valid_password(pwd):\n",
    "    if len(pwd) <8: return False\n",
    "    if not pwd.isalnum(): return False\n",
    "    return True\n",
    "\n",
    "print(is_valid_password(\"hello\"))\n",
    "print(is_valid_password(\"helloWorld\"))\n",
    "print(is_valid_password(\"helloworld10\"))\n",
    "print(is_valid_password(\"3120@1233\"))\n"
   ]
  },
  {
   "cell_type": "code",
   "execution_count": 6,
   "id": "08096d5e",
   "metadata": {},
   "outputs": [
    {
     "name": "stdout",
     "output_type": "stream",
     "text": [
      "area180\n"
     ]
    }
   ],
   "source": [
    "#proper function syntax in python \n",
    "def area(length: int, breadth: int)-> int:\n",
    "    return length * breadth\n",
    "\n",
    "l = 12\n",
    "b = 15\n",
    "a = area(l,b)\n",
    "print(f'area{a}')"
   ]
  },
  {
   "cell_type": "code",
   "execution_count": 14,
   "id": "2b07d489",
   "metadata": {},
   "outputs": [
    {
     "name": "stdout",
     "output_type": "stream",
     "text": [
      "hello\n",
      "hi\n"
     ]
    }
   ],
   "source": [
    "# default args\n",
    "def cleanText(data,to_remove=\"@$#%\"):\n",
    "    newdata = data                                      #make a copy of data\n",
    "    for char in to_remove:                              #loop of each char to remove\n",
    "        newdata = newdata.replace(char,'')              #use replace to remove char\n",
    "    return newdata                                      #return newdata\n",
    "\n",
    "cText = cleanText(\"he#ll#o@\")                           #default chars used for removing\n",
    "print(cText)\n",
    "cText2 = cleanText(\"h@!()#!)@i\",  to_remove='@!#()')     #updated chars\n",
    "print(cText2)"
   ]
  },
  {
   "cell_type": "code",
   "execution_count": 18,
   "id": "ba6b69ad",
   "metadata": {},
   "outputs": [
    {
     "data": {
      "text/plain": [
       "26"
      ]
     },
     "execution_count": 18,
     "metadata": {},
     "output_type": "execute_result"
    }
   ],
   "source": [
    "# a lovely function\n",
    "def add100(a,b,c,d,e,f,g,h,i,j,k,l,m,n,o,p,q,r,s,t,u,v,w,x,y,z):              #this are parameters\n",
    "    return a+b+c+d+e+f+g+h+i+j+k+l+m+n+o+p+q+r+s+t+u+v+w+x+y+z\n",
    "\n",
    "add100(1,1,1,1,1,1,1,1,1,1,1,1,1,1,1,1,1,1,1,1,1,1,1,1,1,1)"
   ]
  },
  {
   "cell_type": "markdown",
   "id": "5b86ced6",
   "metadata": {},
   "source": [
    "variable arguments in python\n",
    "\n",
    "A function can have variable arguements in python using * symbol before a parameter in the function definition. This allows the function to accept any number of positional arguements as a tuple\n",
    "  "
   ]
  },
  {
   "cell_type": "code",
   "execution_count": 25,
   "id": "095b83e2",
   "metadata": {},
   "outputs": [
    {
     "name": "stdout",
     "output_type": "stream",
     "text": [
      "1\n",
      "24\n",
      "4838400\n"
     ]
    }
   ],
   "source": [
    "# A function that can multiply n parameters\n",
    "def multiplier(*numbers):\n",
    "    result = 1                 #variable to hold total \n",
    "    for value in numbers:      #loop to get value from numbers \n",
    "        result *= value        #multiply value with result and save\n",
    "    return result               #return result\n",
    "\n",
    "print(multiplier())                      # no value\n",
    "print(multiplier(2,3,4))                  # with few arguements\n",
    "print(multiplier(2,3,4,3,5,6,1,2,2,5,56,2))                # with any arguements"
   ]
  },
  {
   "cell_type": "code",
   "execution_count": null,
   "id": "b016e8f2",
   "metadata": {},
   "outputs": [
    {
     "name": "stdout",
     "output_type": "stream",
     "text": [
      "24\n",
      "1\n",
      "None\n"
     ]
    }
   ],
   "source": [
    "def operate(*args, operator=\"*\"):\n",
    "    if operator == '*':\n",
    "        result = 1\n",
    "        for num in args:\n",
    "            result*=num\n",
    "        return result\n",
    "    elif operator =='+':\n",
    "        result = 0\n",
    "        for num in args:\n",
    "            result+=num\n",
    "            return result\n",
    "        else:\n",
    "            return \"Wrong operator give, please provide +or *\"\n",
    "\n",
    "print(operate(1,2,3,4))\n",
    "print(operate(1,2,3,4, operator='+'))          # operate is +, so sum of value\n",
    "print(operate(1,2,3,4, operator='-'))"
   ]
  },
  {
   "cell_type": "code",
   "execution_count": 1,
   "id": "9b3ad1ec",
   "metadata": {},
   "outputs": [
    {
     "name": "stdout",
     "output_type": "stream",
     "text": [
      "<function <lambda> at 0x000001AAE31FAE80>\n"
     ]
    }
   ],
   "source": [
    "f = lambda x: x*2 + 10   # x is a parameter here\n",
    "print(f)  # show the memory address(not to be used actually)"
   ]
  },
  {
   "cell_type": "code",
   "execution_count": 2,
   "id": "330b075c",
   "metadata": {},
   "outputs": [
    {
     "name": "stdout",
     "output_type": "stream",
     "text": [
      "14\n",
      "20\n",
      "30\n"
     ]
    }
   ],
   "source": [
    "print(f(2))\n",
    "print(f(5))\n",
    "print(f(10))"
   ]
  },
  {
   "cell_type": "code",
   "execution_count": 3,
   "id": "fcc35357",
   "metadata": {},
   "outputs": [
    {
     "name": "stdout",
     "output_type": "stream",
     "text": [
      "18\n",
      "65\n"
     ]
    }
   ],
   "source": [
    "g = lambda x,y : x*y + x + 10  # x and y are 2 parameters\n",
    "print(g(2,3))\n",
    "print(g(5,10))"
   ]
  },
  {
   "cell_type": "markdown",
   "id": "373d75f4",
   "metadata": {},
   "source": [
    "Generators or lazy functions\n",
    "    special type of function that will not evalute and return all values at once,instead it will return one value at a time, and only when requested"
   ]
  },
  {
   "cell_type": "code",
   "execution_count": 5,
   "id": "15318a16",
   "metadata": {},
   "outputs": [
    {
     "name": "stdout",
     "output_type": "stream",
     "text": [
      "1\n",
      "2\n",
      "3\n",
      "4\n",
      "5\n",
      "[1, 2, 3, 4, 5, 6, 7, 8, 9]\n"
     ]
    }
   ],
   "source": [
    "for i in range(1,6): print(i)\n",
    "\n",
    "print(list(range(1,10)))"
   ]
  },
  {
   "cell_type": "code",
   "execution_count": 7,
   "id": "2227f5c0",
   "metadata": {},
   "outputs": [
    {
     "ename": "IndentationError",
     "evalue": "unexpected indent (2041336862.py, line 13)",
     "output_type": "error",
     "traceback": [
      "  \u001b[36mCell\u001b[39m\u001b[36m \u001b[39m\u001b[32mIn[7]\u001b[39m\u001b[32m, line 13\u001b[39m\n\u001b[31m    \u001b[39m\u001b[31m# to a list\u001b[39m\n    ^\n\u001b[31mIndentationError\u001b[39m\u001b[31m:\u001b[39m unexpected indent\n"
     ]
    }
   ],
   "source": [
    "# creating a generator (use yield instead of return)\n",
    "def squared(data):\n",
    "    for i in data:\n",
    "        yield i**2   # yield stores all result in memory to be used later\n",
    "\n",
    "# squared(data=[1,2,3,4,5,6,7,8])  # this will not give you result\n",
    "\n",
    "# this is how we use generator (getting 1 value at a time)\n",
    "for num in squared([2,3,3,5,6,7]):\n",
    "    print(\"square\",num)\n",
    " # or \n",
    "print(list(squared([22,33,55])))  # this calculates and converts all values\n",
    "                                  # to a list"
   ]
  },
  {
   "cell_type": "code",
   "execution_count": null,
   "id": "f7e0ad05",
   "metadata": {},
   "outputs": [],
   "source": []
  }
 ],
 "metadata": {
  "kernelspec": {
   "display_name": "Python 3",
   "language": "python",
   "name": "python3"
  },
  "language_info": {
   "codemirror_mode": {
    "name": "ipython",
    "version": 3
   },
   "file_extension": ".py",
   "mimetype": "text/x-python",
   "name": "python",
   "nbconvert_exporter": "python",
   "pygments_lexer": "ipython3",
   "version": "3.13.6"
  }
 },
 "nbformat": 4,
 "nbformat_minor": 5
}
