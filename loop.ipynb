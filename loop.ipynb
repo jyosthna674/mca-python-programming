{
 "cells": [
  {
   "cell_type": "markdown",
   "id": "0c78ffab",
   "metadata": {},
   "source": [
    "for loop is a step based"
   ]
  },
  {
   "cell_type": "code",
   "execution_count": 2,
   "id": "a3e50662",
   "metadata": {},
   "outputs": [
    {
     "name": "stdout",
     "output_type": "stream",
     "text": [
      "12457810111314161719202223"
     ]
    }
   ],
   "source": [
    "#skip every value divisible by 3\n",
    "for i in range(1,25):\n",
    "    if i % 3 == 0:\n",
    "        continue\n",
    "    print(i, end ='')"
   ]
  },
  {
   "cell_type": "code",
   "execution_count": 5,
   "id": "4cfdc1f1",
   "metadata": {},
   "outputs": [
    {
     "name": "stdout",
     "output_type": "stream",
     "text": [
      "123312567221"
     ]
    }
   ],
   "source": [
    "data = [1,2,0,3,3,0,1,2,0,5,6,7,2,0,2,1]\n",
    "for i in data:\n",
    "    if i == 0:\n",
    "        continue\n",
    "    print(i, end = '')"
   ]
  },
  {
   "cell_type": "code",
   "execution_count": 6,
   "id": "18b1b8c6",
   "metadata": {},
   "outputs": [
    {
     "name": "stdout",
     "output_type": "stream",
     "text": [
      "1234567"
     ]
    }
   ],
   "source": [
    "for i in range(1,11):\n",
    "    if i == 8:\n",
    "        break\n",
    "    print(i, end = '')"
   ]
  },
  {
   "cell_type": "code",
   "execution_count": 16,
   "id": "78a3eea5",
   "metadata": {},
   "outputs": [
    {
     "name": "stdout",
     "output_type": "stream",
     "text": [
      "enter 0 to stop the loop\n",
      "total =908\n",
      "total =986\n",
      "total =1664\n",
      "total =2342\n"
     ]
    }
   ],
   "source": [
    "#add all values entered by user till he types 0\n",
    "total=0\n",
    "print(\"enter 0 to stop the loop\")\n",
    "for i in range(100):\n",
    "    value = int(input(\"enter a number\"))\n",
    "    if value == 0:\n",
    "        break\n",
    "    total += value  # add the value to total\n",
    "    print(f\"total ={total}\")\n"
   ]
  },
  {
   "cell_type": "code",
   "execution_count": 2,
   "id": "34ea2990",
   "metadata": {},
   "outputs": [
    {
     "name": "stdout",
     "output_type": "stream",
     "text": [
      "2\n",
      "5\n",
      "8\n",
      "11\n",
      "15\n",
      "loop completed\n"
     ]
    }
   ],
   "source": [
    "#for else\n",
    "nums=[2,5,8,11,15]\n",
    "for n in nums:\n",
    "    print(n)\n",
    "print(\"loop completed\")"
   ]
  },
  {
   "cell_type": "code",
   "execution_count": 3,
   "id": "a3a25a7c",
   "metadata": {},
   "outputs": [
    {
     "name": "stdout",
     "output_type": "stream",
     "text": [
      "2\n",
      "5\n",
      "8\n",
      "loop completed\n"
     ]
    }
   ],
   "source": [
    "nums=[2,5,8,11,18]\n",
    "for n in nums:\n",
    "    if n>10:\n",
    "        break\n",
    "    print(n)\n",
    "print(\"loop completed\")"
   ]
  },
  {
   "cell_type": "code",
   "execution_count": 7,
   "id": "18004fd6",
   "metadata": {},
   "outputs": [
    {
     "name": "stdout",
     "output_type": "stream",
     "text": [
      "loop broken\n"
     ]
    }
   ],
   "source": [
    "value = int(input(\"enter breakpoints\"))\n",
    "nums=[1,2,3,4,5,6,11,15,20,25]\n",
    "for n in nums:\n",
    "    if value>n:\n",
    "        print(\"loop broken\")\n",
    "        break\n",
    "else:\n",
    "    print(\"loop completed\")"
   ]
  },
  {
   "cell_type": "code",
   "execution_count": 16,
   "id": "26d16df8",
   "metadata": {},
   "outputs": [
    {
     "name": "stdout",
     "output_type": "stream",
     "text": [
      "6 not a prime number\n"
     ]
    }
   ],
   "source": [
    "num = int(input(\"enter a number\"))\n",
    "for n in range(2,num):\n",
    "    if num % n == 0:\n",
    "        print(f\"{num} not a prime number\")\n",
    "        break"
   ]
  },
  {
   "cell_type": "code",
   "execution_count": 18,
   "id": "9db028f2",
   "metadata": {},
   "outputs": [
    {
     "name": "stdout",
     "output_type": "stream",
     "text": [
      "5 is prime number\n"
     ]
    }
   ],
   "source": [
    "num = int(input(\"enter a number\"))\n",
    "for n in range(2,num):\n",
    "    if num % n == 0:\n",
    "        print(f\"{num} not a prime number\")\n",
    "        break\n",
    "else:\n",
    "    print(f\"{num} is prime number\")"
   ]
  },
  {
   "cell_type": "markdown",
   "id": "2434a57a",
   "metadata": {},
   "source": [
    "syntax\n",
    "   while cond:                                        loops\n",
    "   statement 1                                         /\\\n",
    "   statement 2                                        /  \\\n",
    "   ......                                       finite   infinite\n",
    "   statement n"
   ]
  },
  {
   "cell_type": "code",
   "execution_count": 19,
   "id": "32702b99",
   "metadata": {},
   "outputs": [
    {
     "name": "stdout",
     "output_type": "stream",
     "text": [
      "50 45 40 35 30 25 20 15 10 5 "
     ]
    }
   ],
   "source": [
    "x = 50\n",
    "while x>0:\n",
    "    print(x, end = ' ')\n",
    "    x -= 5"
   ]
  },
  {
   "cell_type": "code",
   "execution_count": null,
   "id": "801b62d8",
   "metadata": {},
   "outputs": [],
   "source": []
  },
  {
   "cell_type": "code",
   "execution_count": null,
   "id": "2239d550",
   "metadata": {},
   "outputs": [],
   "source": []
  },
  {
   "cell_type": "code",
   "execution_count": null,
   "id": "20e9e54f",
   "metadata": {},
   "outputs": [],
   "source": []
  },
  {
   "cell_type": "code",
   "execution_count": null,
   "id": "f7d6a754",
   "metadata": {},
   "outputs": [],
   "source": []
  }
 ],
 "metadata": {
  "kernelspec": {
   "display_name": "Python 3",
   "language": "python",
   "name": "python3"
  },
  "language_info": {
   "codemirror_mode": {
    "name": "ipython",
    "version": 3
   },
   "file_extension": ".py",
   "mimetype": "text/x-python",
   "name": "python",
   "nbconvert_exporter": "python",
   "pygments_lexer": "ipython3",
   "version": "3.13.6"
  }
 },
 "nbformat": 4,
 "nbformat_minor": 5
}
