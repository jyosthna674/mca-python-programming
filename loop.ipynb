{
 "cells": [
  {
   "cell_type": "code",
   "execution_count": null,
   "id": "7f908ae1",
   "metadata": {},
   "outputs": [],
   "source": [
    "name = input()"
   ]
  },
  {
   "cell_type": "code",
   "execution_count": null,
   "id": "03c907c5",
   "metadata": {},
   "outputs": [
    {
     "name": "stdout",
     "output_type": "stream",
     "text": [
      "jyoshna\n"
     ]
    }
   ],
   "source": [
    "name = input(\"Enter your name: \")\n",
    "city = input(\"enter course name\")\n",
    "addr = input(\"enter roll number\")\n",
    "print(name)\n"
   ]
  },
  {
   "cell_type": "code",
   "execution_count": 2,
   "id": "81ed79f3",
   "metadata": {},
   "outputs": [
    {
     "name": "stdout",
     "output_type": "stream",
     "text": [
      "20 10 2010\n"
     ]
    }
   ],
   "source": [
    "a = input(\"enter a value\")\n",
    "b = input(\"enter b value\")\n",
    "c=a+b\n",
    "print(a,b,c)"
   ]
  },
  {
   "cell_type": "code",
   "execution_count": 3,
   "id": "cc8f1b6e",
   "metadata": {},
   "outputs": [
    {
     "name": "stdout",
     "output_type": "stream",
     "text": [
      "40.0\n",
      "160.0\n",
      "251.20000000000002\n",
      "5024.0\n"
     ]
    }
   ],
   "source": [
    "radius = float(input(\"enter radius of circle\"))\n",
    "diameter = radius * 4\n",
    "circumference = 2 * 3.14 * radius\n",
    "area = 3.14 * radius ** 2\n",
    "print(radius)\n",
    "print(diameter)\n",
    "print(circumference)\n",
    "print(area)"
   ]
  },
  {
   "cell_type": "code",
   "execution_count": 5,
   "id": "5df2a70b",
   "metadata": {},
   "outputs": [
    {
     "name": "stdout",
     "output_type": "stream",
     "text": [
      "1\n",
      "2.0\n",
      "3\n",
      "0.06\n"
     ]
    }
   ],
   "source": [
    "p = int(input(\"enter the p value\"))\n",
    "r = float(input(\"enter the r value\"))\n",
    "t = int(input(\"enter the t value\"))\n",
    "si = p*r*t/100\n",
    "print(p)\n",
    "print(r)\n",
    "print(t)\n",
    "print(si)\n"
   ]
  },
  {
   "cell_type": "code",
   "execution_count": 6,
   "id": "f78ff9a7",
   "metadata": {},
   "outputs": [
    {
     "name": "stdout",
     "output_type": "stream",
     "text": [
      "6.28\n"
     ]
    }
   ],
   "source": [
    "pi = 3.14\n",
    "r = float(input(\"enter r value\"))\n",
    "h = float(input(\"enter h value\"))\n",
    "v = pi * r**2 * h\n",
    "print(v)"
   ]
  },
  {
   "cell_type": "code",
   "execution_count": 10,
   "id": "36f373f1",
   "metadata": {},
   "outputs": [
    {
     "name": "stdout",
     "output_type": "stream",
     "text": [
      "2 8 9 8 5\n",
      "12345\n",
      "3➡️6➡️8➡️5\n",
      "1/n2/n3/n4/n5\n",
      "1hello world2hello world3hello world4hello world5\n"
     ]
    }
   ],
   "source": [
    "print(2,8,9,8,5)\n",
    "print(1,2,3,4,5,sep=\"\")\n",
    "print(3,6,8,5,sep='➡️')\n",
    "print(1,2,3,4,5,sep= \"/n\")\n",
    "print(1,2,3,4,5, sep=\"hello world\")"
   ]
  },
  {
   "cell_type": "code",
   "execution_count": null,
   "id": "f5d73776",
   "metadata": {},
   "outputs": [],
   "source": [
    "a = 94\n",
    "b = 73\n",
    "c= a"
   ]
  },
  {
   "cell_type": "code",
   "execution_count": null,
   "id": "068c9035",
   "metadata": {},
   "outputs": [],
   "source": []
  },
  {
   "cell_type": "code",
   "execution_count": null,
   "id": "37cc2ac2",
   "metadata": {},
   "outputs": [],
   "source": []
  },
  {
   "cell_type": "code",
   "execution_count": null,
   "id": "783aff76",
   "metadata": {},
   "outputs": [],
   "source": []
  },
  {
   "cell_type": "code",
   "execution_count": null,
   "id": "f705ec24",
   "metadata": {},
   "outputs": [],
   "source": []
  },
  {
   "cell_type": "code",
   "execution_count": null,
   "id": "7088dfed",
   "metadata": {},
   "outputs": [],
   "source": []
  },
  {
   "cell_type": "code",
   "execution_count": null,
   "id": "b76c021c",
   "metadata": {},
   "outputs": [],
   "source": []
  },
  {
   "cell_type": "code",
   "execution_count": null,
   "id": "a300b008",
   "metadata": {},
   "outputs": [],
   "source": []
  },
  {
   "cell_type": "code",
   "execution_count": null,
   "id": "124b5ef2",
   "metadata": {},
   "outputs": [],
   "source": []
  },
  {
   "cell_type": "code",
   "execution_count": null,
   "id": "74577df8",
   "metadata": {},
   "outputs": [],
   "source": []
  },
  {
   "cell_type": "code",
   "execution_count": null,
   "id": "ca4df533",
   "metadata": {},
   "outputs": [],
   "source": []
  },
  {
   "cell_type": "code",
   "execution_count": null,
   "id": "41d7d226",
   "metadata": {},
   "outputs": [],
   "source": []
  },
  {
   "cell_type": "code",
   "execution_count": null,
   "id": "5c00e6fb",
   "metadata": {},
   "outputs": [],
   "source": []
  },
  {
   "cell_type": "code",
   "execution_count": null,
   "id": "ba9119a8",
   "metadata": {},
   "outputs": [],
   "source": []
  },
  {
   "cell_type": "code",
   "execution_count": 8,
   "id": "1e5c9b85",
   "metadata": {},
   "outputs": [
    {
     "name": "stdout",
     "output_type": "stream",
     "text": [
      "10 * 1\n",
      "9 * 10\n",
      "8 * 90\n",
      "7 * 720\n",
      "6 * 5040\n",
      "5 * 30240\n",
      "4 * 151200\n",
      "3 * 604800\n",
      "2 * 1814400\n",
      "1 * 3628800\n",
      "3628800\n"
     ]
    }
   ],
   "source": [
    "# factorial\n",
    "num = 10\n",
    "fact = 1\n",
    "# you can use a backward or forward loop\n",
    "for i in range(num,0,-1):\n",
    "    print (f'{i} * {fact}')\n",
    "    fact=fact * i\n",
    "print(fact)"
   ]
  },
  {
   "cell_type": "code",
   "execution_count": 6,
   "id": "6b0ba801",
   "metadata": {},
   "outputs": [
    {
     "name": "stdout",
     "output_type": "stream",
     "text": [
      "12345\n",
      "12345\n",
      "12345\n",
      "12345\n",
      "12345\n"
     ]
    }
   ],
   "source": [
    "n - 6\n",
    "for i in range(1,n):\n",
    "    for j in range(1,n):\n",
    "        print(j,end='')\n",
    "    print()"
   ]
  },
  {
   "cell_type": "code",
   "execution_count": 5,
   "id": "168543b5",
   "metadata": {},
   "outputs": [
    {
     "name": "stdout",
     "output_type": "stream",
     "text": [
      "1 1 1 1 1 2 2 2 2 2 3 3 3 3 3 4 4 4 4 4 5 5 5 5 5 "
     ]
    }
   ],
   "source": [
    "n = 6\n",
    "for i in range(1,n):\n",
    "    for j in range(1,n):\n",
    "      print(i, end=' ')"
   ]
  },
  {
   "cell_type": "markdown",
   "id": "f7076f47",
   "metadata": {},
   "source": [
    "for loop is a step based"
   ]
  },
  {
   "cell_type": "code",
   "execution_count": 2,
   "id": "a3e50662",
   "metadata": {},
   "outputs": [
    {
     "name": "stdout",
     "output_type": "stream",
     "text": [
      "1 2 4 5 7 8 10 11 13 14 16 17 19 20 22 23 "
     ]
    }
   ],
   "source": [
    "#skip every value divisible by 3\n",
    "for i in range(1,25):\n",
    "    if i % 3 == 0:\n",
    "        continue\n",
    "    print(i, end =' ')"
   ]
  },
  {
   "cell_type": "code",
   "execution_count": 1,
   "id": "4cfdc1f1",
   "metadata": {},
   "outputs": [
    {
     "name": "stdout",
     "output_type": "stream",
     "text": [
      "1 2 3 3 1 2 5 6 7 2 2 1 "
     ]
    }
   ],
   "source": [
    "data = [1,2,0,3,3,0,1,2,0,5,6,7,2,0,2,1]\n",
    "for i in data:\n",
    "    if i == 0:\n",
    "        continue\n",
    "    print(i, end = ' ')"
   ]
  },
  {
   "cell_type": "code",
   "execution_count": 3,
   "id": "18b1b8c6",
   "metadata": {},
   "outputs": [
    {
     "name": "stdout",
     "output_type": "stream",
     "text": [
      "1 2 3 4 5 6 7 "
     ]
    }
   ],
   "source": [
    "for i in range(1,11):\n",
    "    if i == 8:\n",
    "        break\n",
    "    print(i, end = ' ')"
   ]
  },
  {
   "cell_type": "code",
   "execution_count": 16,
   "id": "78a3eea5",
   "metadata": {},
   "outputs": [
    {
     "name": "stdout",
     "output_type": "stream",
     "text": [
      "enter 0 to stop the loop\n",
      "total =908\n",
      "total =986\n",
      "total =1664\n",
      "total =2342\n"
     ]
    }
   ],
   "source": [
    "#add all values entered by user till he types 0\n",
    "total=0\n",
    "print(\"enter 0 to stop the loop\")\n",
    "for i in range(100):\n",
    "    value = int(input(\"enter a number\"))\n",
    "    if value == 0:\n",
    "        break\n",
    "    total += value  # add the value to total\n",
    "    print(f\"total ={total}\")\n"
   ]
  },
  {
   "cell_type": "code",
   "execution_count": 2,
   "id": "34ea2990",
   "metadata": {},
   "outputs": [
    {
     "name": "stdout",
     "output_type": "stream",
     "text": [
      "2\n",
      "5\n",
      "8\n",
      "11\n",
      "15\n",
      "loop completed\n"
     ]
    }
   ],
   "source": [
    "#for else\n",
    "nums=[2,5,8,11,15]\n",
    "for n in nums:\n",
    "    print(n)\n",
    "print(\"loop completed\")"
   ]
  },
  {
   "cell_type": "code",
   "execution_count": 3,
   "id": "a3a25a7c",
   "metadata": {},
   "outputs": [
    {
     "name": "stdout",
     "output_type": "stream",
     "text": [
      "2\n",
      "5\n",
      "8\n",
      "loop completed\n"
     ]
    }
   ],
   "source": [
    "nums=[2,5,8,11,18]\n",
    "for n in nums:\n",
    "    if n>10:\n",
    "        break\n",
    "    print(n)\n",
    "print(\"loop completed\")"
   ]
  },
  {
   "cell_type": "code",
   "execution_count": 7,
   "id": "18004fd6",
   "metadata": {},
   "outputs": [
    {
     "name": "stdout",
     "output_type": "stream",
     "text": [
      "loop broken\n"
     ]
    }
   ],
   "source": [
    "value = int(input(\"enter breakpoints\"))\n",
    "nums=[1,2,3,4,5,6,11,15,20,25]\n",
    "for n in nums:\n",
    "    if value>n:\n",
    "        print(\"loop broken\")\n",
    "        break\n",
    "else:\n",
    "    print(\"loop completed\")"
   ]
  },
  {
   "cell_type": "code",
   "execution_count": 16,
   "id": "26d16df8",
   "metadata": {},
   "outputs": [
    {
     "name": "stdout",
     "output_type": "stream",
     "text": [
      "6 not a prime number\n"
     ]
    }
   ],
   "source": [
    "num = int(input(\"enter a number\"))\n",
    "for n in range(2,num):\n",
    "    if num % n == 0:\n",
    "        print(f\"{num} not a prime number\")\n",
    "        break"
   ]
  },
  {
   "cell_type": "code",
   "execution_count": 18,
   "id": "9db028f2",
   "metadata": {},
   "outputs": [
    {
     "name": "stdout",
     "output_type": "stream",
     "text": [
      "5 is prime number\n"
     ]
    }
   ],
   "source": [
    "num = int(input(\"enter a number\"))\n",
    "for n in range(2,num):\n",
    "    if num % n == 0:\n",
    "        print(f\"{num} not a prime number\")\n",
    "        break\n",
    "else:\n",
    "    print(f\"{num} is prime number\")"
   ]
  },
  {
   "cell_type": "markdown",
   "id": "2434a57a",
   "metadata": {},
   "source": [
    "syntax\n",
    "   while cond:                                        loops\n",
    "   statement 1                                         /\\\n",
    "   statement 2                                        /  \\\n",
    "   ......                                       finite   infinite\n",
    "   statement n"
   ]
  },
  {
   "cell_type": "code",
   "execution_count": 19,
   "id": "32702b99",
   "metadata": {},
   "outputs": [
    {
     "name": "stdout",
     "output_type": "stream",
     "text": [
      "50 45 40 35 30 25 20 15 10 5 "
     ]
    }
   ],
   "source": [
    "x = 50\n",
    "while x>0:\n",
    "    print(x, end = ' ')\n",
    "    x -= 5"
   ]
  },
  {
   "cell_type": "code",
   "execution_count": null,
   "id": "801b62d8",
   "metadata": {},
   "outputs": [],
   "source": []
  },
  {
   "cell_type": "code",
   "execution_count": null,
   "id": "2239d550",
   "metadata": {},
   "outputs": [],
   "source": []
  },
  {
   "cell_type": "code",
   "execution_count": null,
   "id": "20e9e54f",
   "metadata": {},
   "outputs": [],
   "source": []
  },
  {
   "cell_type": "code",
   "execution_count": null,
   "id": "f7d6a754",
   "metadata": {},
   "outputs": [],
   "source": []
  }
 ],
 "metadata": {
  "kernelspec": {
   "display_name": "Python 3",
   "language": "python",
   "name": "python3"
  },
  "language_info": {
   "codemirror_mode": {
    "name": "ipython",
    "version": 3
   },
   "file_extension": ".py",
   "mimetype": "text/x-python",
   "name": "python",
   "nbconvert_exporter": "python",
   "pygments_lexer": "ipython3",
   "version": "3.13.6"
  }
 },
 "nbformat": 4,
 "nbformat_minor": 5
}
