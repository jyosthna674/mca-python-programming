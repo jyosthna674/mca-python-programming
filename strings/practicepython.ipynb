{
 "cells": [
  {
   "cell_type": "code",
   "execution_count": 1,
   "id": "cef8239a",
   "metadata": {},
   "outputs": [
    {
     "data": {
      "text/plain": [
       "5.477225575051661"
      ]
     },
     "execution_count": 1,
     "metadata": {},
     "output_type": "execute_result"
    }
   ],
   "source": [
    "import math\n",
    "def hyp(p,b):\n",
    "    ans =math.sqrt(p*2+b*2)\n",
    "    return ans\n",
    "hyp(10,5)"
   ]
  },
  {
   "cell_type": "code",
   "execution_count": 2,
   "id": "32c74a9e",
   "metadata": {},
   "outputs": [
    {
     "name": "stdout",
     "output_type": "stream",
     "text": [
      "6\n"
     ]
    }
   ],
   "source": [
    "n = int(input())\n",
    "nums = list(map(int,input().split()))\n",
    "print(sum(nums))"
   ]
  },
  {
   "cell_type": "code",
   "execution_count": 3,
   "id": "ec8e1735",
   "metadata": {},
   "outputs": [
    {
     "name": "stdout",
     "output_type": "stream",
     "text": [
      "1.67\n"
     ]
    }
   ],
   "source": [
    "n = int(input())\n",
    "nums = list(map(int,input().split()))\n",
    "print(f\"{sum(nums)/n:.2f}\")"
   ]
  },
  {
   "cell_type": "code",
   "execution_count": 4,
   "id": "37fad876",
   "metadata": {},
   "outputs": [
    {
     "name": "stdout",
     "output_type": "stream",
     "text": [
      "7\n"
     ]
    }
   ],
   "source": [
    "s = input()\n",
    "print(s[::-1])"
   ]
  },
  {
   "cell_type": "code",
   "execution_count": 5,
   "id": "b29dd902",
   "metadata": {},
   "outputs": [
    {
     "name": "stdout",
     "output_type": "stream",
     "text": [
      "0 0\n"
     ]
    }
   ],
   "source": [
    "s = input().lower()\n",
    "vowels = 'aeiou'\n",
    "v = sum(1 for ch in s if ch in vowels)\n",
    "c = sum(1 for ch in s if ch.isalpha() and ch not in vowels)\n",
    "print(v,c)"
   ]
  },
  {
   "cell_type": "code",
   "execution_count": 6,
   "id": "160b1c15",
   "metadata": {},
   "outputs": [
    {
     "name": "stdout",
     "output_type": "stream",
     "text": [
      "no\n"
     ]
    }
   ],
   "source": [
    "n = input()\n",
    "print(\"yes\" if n == n [::-1] else \"no\")"
   ]
  },
  {
   "cell_type": "code",
   "execution_count": 7,
   "id": "a2c186d8",
   "metadata": {},
   "outputs": [
    {
     "name": "stdout",
     "output_type": "stream",
     "text": [
      "*\n",
      "**\n",
      "***\n",
      "****\n",
      "*****\n"
     ]
    }
   ],
   "source": [
    "n = int(input())\n",
    "for i in range(1,n+1):\n",
    "    print('*' * i)"
   ]
  },
  {
   "cell_type": "code",
   "execution_count": 8,
   "id": "a160c95a",
   "metadata": {},
   "outputs": [
    {
     "name": "stdout",
     "output_type": "stream",
     "text": [
      "1\n"
     ]
    }
   ],
   "source": [
    "#factorial\n",
    "n = int(input())\n",
    "fact = 1\n",
    "for i in range(1,n + 1):\n",
    "    fact *= i\n",
    "print(fact)"
   ]
  },
  {
   "cell_type": "code",
   "execution_count": 9,
   "id": "a15d6faa",
   "metadata": {},
   "outputs": [
    {
     "name": "stdout",
     "output_type": "stream",
     "text": [
      "5\n"
     ]
    }
   ],
   "source": [
    "#Fibonacci\n",
    "n = int(input())\n",
    "a,b = 0,1\n",
    "for _ in range(n):\n",
    "    a , b = b, a + b\n",
    "print(a)"
   ]
  },
  {
   "cell_type": "code",
   "execution_count": 10,
   "id": "e709dee7",
   "metadata": {},
   "outputs": [
    {
     "name": "stdout",
     "output_type": "stream",
     "text": [
      "prime\n"
     ]
    }
   ],
   "source": [
    "#prime check\n",
    "n = int(input())\n",
    "if n < 2:\n",
    "    print(\"not prime\")\n",
    "else:\n",
    "    for i in range(2,int(n ** 0.5) + 1):\n",
    "        if n % i == 0:\n",
    "            print(\"not prime\")\n",
    "            break\n",
    "    else:\n",
    "        print(\"prime\")"
   ]
  },
  {
   "cell_type": "code",
   "execution_count": 11,
   "id": "0796897d",
   "metadata": {},
   "outputs": [
    {
     "name": "stdout",
     "output_type": "stream",
     "text": [
      "[4]\n"
     ]
    }
   ],
   "source": [
    "#unique list elements\n",
    "list = list(map(int,input().split()))\n",
    "unique = []\n",
    "for x in list:\n",
    "    if x not in unique:\n",
    "        unique.append(x)\n",
    "print(unique)"
   ]
  },
  {
   "cell_type": "code",
   "execution_count": 12,
   "id": "18b6ddbc",
   "metadata": {},
   "outputs": [
    {
     "name": "stdout",
     "output_type": "stream",
     "text": [
      "word -> 1\n"
     ]
    }
   ],
   "source": [
    "#word frequency\n",
    "sentence = input(\"Enter a sentence: \")\n",
    "sentence = sentence.lower()\n",
    "words = sentence.split()\n",
    "word_count = {}\n",
    "for word in words:\n",
    "    if word in word_count:\n",
    "        word_count[word] += 1\n",
    "    else:\n",
    "        word_count[word] = 1\n",
    "for word, count in word_count.items():\n",
    "    print(f\"{word} -> {count}\")"
   ]
  },
  {
   "cell_type": "code",
   "execution_count": 13,
   "id": "b874b48f",
   "metadata": {},
   "outputs": [
    {
     "name": "stdout",
     "output_type": "stream",
     "text": [
      "GCD = 2\n"
     ]
    }
   ],
   "source": [
    "# Input two numbers\n",
    "a = int(input(\"Enter first number: \"))\n",
    "b = int(input(\"Enter second number: \"))\n",
    "\n",
    "# Function to find GCD\n",
    "def gcd(x, y):\n",
    "    while y != 0:\n",
    "        x, y = y, x % y\n",
    "    return x\n",
    "\n",
    "# Print the GCD\n",
    "print(\"GCD =\", gcd(a, b))"
   ]
  },
  {
   "cell_type": "code",
   "execution_count": 14,
   "id": "cabe261e",
   "metadata": {},
   "outputs": [
    {
     "name": "stdout",
     "output_type": "stream",
     "text": [
      "True\n"
     ]
    }
   ],
   "source": [
    "def is_valid_parentheses(s):\n",
    "    stack = []\n",
    "    # Mapping of closing to opening brackets\n",
    "    bracket_map = {')': '(', '}': '{', ']': '['}\n",
    "    \n",
    "    for char in s:\n",
    "        if char in bracket_map.values():  # opening brackets\n",
    "            stack.append(char)\n",
    "        elif char in bracket_map:         # closing brackets\n",
    "            if stack and stack[-1] == bracket_map[char]:\n",
    "                stack.pop()\n",
    "            else:\n",
    "                return False\n",
    "    return len(stack) == 0\n",
    "\n",
    "# Input parentheses string\n",
    "s = input(\"Enter parentheses string: \")\n",
    "print(is_valid_parentheses(s))"
   ]
  },
  {
   "cell_type": "code",
   "execution_count": 15,
   "id": "cee16873",
   "metadata": {},
   "outputs": [
    {
     "name": "stdout",
     "output_type": "stream",
     "text": [
      "1024\n"
     ]
    }
   ],
   "source": [
    "def power(a, b):\n",
    "    if b == 0:\n",
    "        return 1\n",
    "    half = power(a, b // 2)\n",
    "    if b % 2 == 0:\n",
    "        return half * half\n",
    "    else:\n",
    "        if b > 0:\n",
    "            return half * half * a\n",
    "        else:\n",
    "            return (half * half) / a\n",
    "\n",
    "a = 2\n",
    "b = 10\n",
    "print(power(a,b))"
   ]
  },
  {
   "cell_type": "code",
   "execution_count": 16,
   "id": "4932a9ed",
   "metadata": {},
   "outputs": [
    {
     "name": "stdout",
     "output_type": "stream",
     "text": [
      "missing number is: 3\n"
     ]
    }
   ],
   "source": [
    "#find missing number\n",
    "def find_missing(nums):\n",
    "    n = len(nums) + 1\n",
    "    expected_sum = n * (n+1) // 2\n",
    "    actual_sum = sum(nums)\n",
    "    return expected_sum - actual_sum\n",
    "nums = [1,2,4,5]\n",
    "print(\"missing number is:\",find_missing(nums))"
   ]
  },
  {
   "cell_type": "code",
   "execution_count": 17,
   "id": "7bbe590d",
   "metadata": {},
   "outputs": [
    {
     "name": "stdout",
     "output_type": "stream",
     "text": [
      "sorted list: [1, 5, 4, 2, 8]\n"
     ]
    }
   ],
   "source": [
    "#bubble sort\n",
    "def bubble_sort(arr):\n",
    "    n = len(arr)\n",
    "    for i in range(n - 1):\n",
    "        for j in range(n - i - 1):\n",
    "            if arr[j] > arr[j + 1]:\n",
    "                arr[j],arr[j + 1] = arr[j + 1],arr[j]\n",
    "                return arr\n",
    "nums = [5,1,4,2,8]\n",
    "print(\"sorted list:\",bubble_sort(nums))"
   ]
  },
  {
   "cell_type": "code",
   "execution_count": 18,
   "id": "31eaac94",
   "metadata": {},
   "outputs": [
    {
     "name": "stdout",
     "output_type": "stream",
     "text": [
      "transpose:\n",
      "[1, 4]\n",
      "[2, 5]\n",
      "[3, 6]\n"
     ]
    }
   ],
   "source": [
    "#transpose matrix\n",
    "def transpose_matrix(matrix):\n",
    "    rows = len(matrix)\n",
    "    cols = len(matrix[0])\n",
    "    result = [[0 for _ in range(rows)] for _ in range(cols)]\n",
    "\n",
    "    for i in range(rows):\n",
    "        for j in range(cols):\n",
    "            result[j][i] = matrix[i][j]\n",
    "    return result\n",
    "matrix = [\n",
    "    [1,2,3],\n",
    "    [4,5,6]\n",
    "] \n",
    "\n",
    "print(\"transpose:\")\n",
    "for row in transpose_matrix(matrix):\n",
    "    print(row)"
   ]
  },
  {
   "cell_type": "code",
   "execution_count": 1,
   "id": "77ac4193",
   "metadata": {},
   "outputs": [
    {
     "name": "stdout",
     "output_type": "stream",
     "text": [
      "second largest number is: 3\n"
     ]
    }
   ],
   "source": [
    "def second_largest(nums):\n",
    "    unique_nums = list(set(nums))\n",
    "    if len(unique_nums) < 2:\n",
    "        return \"no second largest element\"\n",
    "    unique_nums.sort()\n",
    "    return unique_nums[-2]\n",
    "\n",
    "nums = [4,1,2,4,3,2]\n",
    "print(\"second largest number is:\",second_largest(nums))"
   ]
  },
  {
   "cell_type": "code",
   "execution_count": 20,
   "id": "188f61c6",
   "metadata": {},
   "outputs": [
    {
     "name": "stdout",
     "output_type": "stream",
     "text": [
      "True\n"
     ]
    }
   ],
   "source": [
    "#anagram checker\n",
    "def is_anagram(s1,s2):\n",
    "    s1 = s1.replace(\" \", \"\").lower()\n",
    "    s2 = s2.replace(\" \", \"\").lower()\n",
    "    return sorted(s1) == sorted(s2)\n",
    "\n",
    "s1 = \"listen\"\n",
    "s2 = \"silent\"\n",
    "print(is_anagram(s1,s2))"
   ]
  },
  {
   "cell_type": "code",
   "execution_count": 21,
   "id": "b8fd65b8",
   "metadata": {},
   "outputs": [
    {
     "name": "stdout",
     "output_type": "stream",
     "text": [
      "binary representation: 1010\n"
     ]
    }
   ],
   "source": [
    "def decimal_to_binary(n):\n",
    "    return bin(n)[2:]\n",
    "\n",
    "num = 10\n",
    "print(\"binary representation:\",decimal_to_binary(num))"
   ]
  },
  {
   "cell_type": "code",
   "execution_count": 22,
   "id": "270c696b",
   "metadata": {},
   "outputs": [
    {
     "name": "stdout",
     "output_type": "stream",
     "text": [
      "Decimal value: 10\n"
     ]
    }
   ],
   "source": [
    "#binary to decimal\n",
    "def binary_to_decimal(binary_str):\n",
    "    return int(binary_str,2)\n",
    "\n",
    "binary_str = \"1010\"\n",
    "print(\"Decimal value:\",binary_to_decimal(binary_str))"
   ]
  },
  {
   "cell_type": "code",
   "execution_count": 23,
   "id": "4d8a48f1",
   "metadata": {},
   "outputs": [
    {
     "name": "stdout",
     "output_type": "stream",
     "text": [
      "LCM: 36\n"
     ]
    }
   ],
   "source": [
    "import math\n",
    "\n",
    "def lcm(a,b):\n",
    "    return abs(a * b) // math.gcd(a,b)\n",
    "\n",
    "a = 12\n",
    "b = 18\n",
    "print(\"LCM:\",lcm(a,b))"
   ]
  },
  {
   "cell_type": "code",
   "execution_count": 24,
   "id": "092b9856",
   "metadata": {},
   "outputs": [
    {
     "name": "stdout",
     "output_type": "stream",
     "text": [
      "153 is armstrong: True\n",
      "123 is armstrong: False\n"
     ]
    }
   ],
   "source": [
    "#armstrong number check\n",
    "def is_armstrong(n):\n",
    "    original = n\n",
    "    sum_cubes = 0\n",
    "    while n > 0:\n",
    "        digit = n % 10\n",
    "        sum_cubes += digit ** 3\n",
    "        n //= 10\n",
    "    return sum_cubes == original\n",
    "\n",
    "n = 153\n",
    "print(f\"{n} is armstrong:\",is_armstrong(n))\n",
    "\n",
    "n = 123\n",
    "print(f\"{n} is armstrong:\",is_armstrong(n))"
   ]
  },
  {
   "cell_type": "code",
   "execution_count": 25,
   "id": "e6f8cbfc",
   "metadata": {},
   "outputs": [
    {
     "name": "stdout",
     "output_type": "stream",
     "text": [
      "a = 10 b= 5\n"
     ]
    }
   ],
   "source": [
    "#swap variables without temp\n",
    "a = 5\n",
    "b = 10\n",
    "\n",
    "a = a + b\n",
    "b = a - b\n",
    "a = a - b\n",
    "\n",
    "print(\"a =\",a, \"b=\",b)"
   ]
  },
  {
   "cell_type": "code",
   "execution_count": 26,
   "id": "25cdd972",
   "metadata": {},
   "outputs": [
    {
     "name": "stdout",
     "output_type": "stream",
     "text": [
      "title case: Hello World From Python\n"
     ]
    }
   ],
   "source": [
    "def to_title_case(sentence):\n",
    "    return sentence.title()\n",
    "\n",
    "sentence = \"hello world from python\"\n",
    "print(\"title case:\",to_title_case(sentence))"
   ]
  },
  {
   "cell_type": "code",
   "execution_count": 27,
   "id": "1da3116b",
   "metadata": {},
   "outputs": [
    {
     "name": "stdout",
     "output_type": "stream",
     "text": [
      "occurrences: 3\n"
     ]
    }
   ],
   "source": [
    "#substring count\n",
    "def count_substring(text,pattern):\n",
    "    count = 0\n",
    "    i = 0\n",
    "    while i <= len(text) - len(pattern):\n",
    "        if text[i:i+len(pattern)] == pattern:\n",
    "            count += 1\n",
    "        i += 1\n",
    "    return count\n",
    "\n",
    "text = \"abababa\"\n",
    "pattern = \"aba\"\n",
    "print(\"occurrences:\",count_substring(text,pattern))"
   ]
  },
  {
   "cell_type": "code",
   "execution_count": 28,
   "id": "43dc9e1b",
   "metadata": {},
   "outputs": [
    {
     "name": "stdout",
     "output_type": "stream",
     "text": [
      "After swapping: a= 10 b= 5\n"
     ]
    }
   ],
   "source": [
    "#swap pair using tuple unpacking\n",
    "a = 5\n",
    "b = 10\n",
    "\n",
    "a,b = b,a\n",
    "print(\"After swapping: a=\",a,\"b=\",b)"
   ]
  },
  {
   "cell_type": "code",
   "execution_count": 2,
   "id": "eeb10d22",
   "metadata": {},
   "outputs": [
    {
     "name": "stdout",
     "output_type": "stream",
     "text": [
      "union: [1, 2, 3, 4]\n"
     ]
    }
   ],
   "source": [
    "def union_lists(list1,list2):\n",
    "    return list(set(list1) | set(list2))\n",
    "\n",
    "list1 = [1,2,3]\n",
    "list2 = [2,3,4]\n",
    "print(\"union:\",union_lists(list1,list2))"
   ]
  },
  {
   "cell_type": "code",
   "execution_count": 3,
   "id": "fef13a7f",
   "metadata": {},
   "outputs": [
    {
     "name": "stdout",
     "output_type": "stream",
     "text": [
      "intersection: [3, 4]\n"
     ]
    }
   ],
   "source": [
    "#intersection\n",
    "def intersection_lists(list1,list2):\n",
    "    return list(set(list1)& set(list2))\n",
    "\n",
    "list1 = [1,2,3,4]\n",
    "list2 = [3,4,5]\n",
    "print(\"intersection:\",intersection_lists(list1,list2))"
   ]
  },
  {
   "cell_type": "code",
   "execution_count": 31,
   "id": "655de062",
   "metadata": {},
   "outputs": [
    {
     "name": "stdout",
     "output_type": "stream",
     "text": [
      "Merged list: [1, 2, 3, 4, 5, 6]\n"
     ]
    }
   ],
   "source": [
    "#merge two sorted list\n",
    "def merge_sorted_lists(list1, list2):\n",
    "    merged = []\n",
    "    i = j = 0\n",
    "    n1, n2 = len(list1), len(list2)\n",
    "\n",
    "    while i < n1 and j < n2:\n",
    "        if list1[i] < list2[j]:\n",
    "            merged.append(list1[i])\n",
    "            i += 1\n",
    "        else:\n",
    "            merged.append(list2[j])\n",
    "            j += 1\n",
    "\n",
    "    # Add remaining elements\n",
    "    while i < n1:\n",
    "        merged.append(list1[i])\n",
    "        i += 1\n",
    "    while j < n2:\n",
    "        merged.append(list2[j])\n",
    "        j += 1\n",
    "\n",
    "    return merged\n",
    "\n",
    "list1 = [1, 3, 5]\n",
    "list2 = [2, 4, 6]\n",
    "print(\"Merged list:\", merge_sorted_lists(list1, list2))"
   ]
  },
  {
   "cell_type": "code",
   "execution_count": 32,
   "id": "41912c07",
   "metadata": {},
   "outputs": [
    {
     "name": "stdout",
     "output_type": "stream",
     "text": [
      "sorted list: [1, 2, 5, 8]\n"
     ]
    }
   ],
   "source": [
    "#sort list in ascending order\n",
    "def sort_list(lis):\n",
    "    return sorted(lis)\n",
    "\n",
    "nums =[5,2,8,1]\n",
    "print(\"sorted list:\",sort_list(nums))"
   ]
  },
  {
   "cell_type": "code",
   "execution_count": 33,
   "id": "a57dd806",
   "metadata": {},
   "outputs": [
    {
     "name": "stdout",
     "output_type": "stream",
     "text": [
      "Max =\n"
     ]
    }
   ],
   "source": [
    "#max and min of a list\n",
    "def max_min(lst):\n",
    "    return max(lst),min(lst)\n",
    "\n",
    "nums = [4,1,7,3]\n",
    "maximum,minimum = max_min(nums)\n",
    "print(\"Max =\")"
   ]
  },
  {
   "cell_type": "code",
   "execution_count": 34,
   "id": "77ab06dd",
   "metadata": {},
   "outputs": [
    {
     "name": "stdout",
     "output_type": "stream",
     "text": [
      "Max = 7 Min = 1\n"
     ]
    }
   ],
   "source": [
    "def max_min(lst):\n",
    "    return max(lst), min(lst)\n",
    "\n",
    "nums = [4, 1, 7, 3]\n",
    "maximum, minimum = max_min(nums)\n",
    "print(\"Max =\", maximum, \"Min =\", minimum)"
   ]
  },
  {
   "cell_type": "code",
   "execution_count": 4,
   "id": "7a6c4b1e",
   "metadata": {},
   "outputs": [
    {
     "name": "stdout",
     "output_type": "stream",
     "text": [
      "Unique elements: [1, 2, 3, 4]\n"
     ]
    }
   ],
   "source": [
    "# Remove duplicates using set\n",
    "def unique_elements(lst):\n",
    "    return list(set(lst))\n",
    "\n",
    "nums = [1, 2, 2, 3, 4, 3]\n",
    "print(\"Unique elements:\", unique_elements(nums))\n"
   ]
  },
  {
   "cell_type": "code",
   "execution_count": 36,
   "id": "75123ebd",
   "metadata": {},
   "outputs": [
    {
     "name": "stdout",
     "output_type": "stream",
     "text": [
      "unique elements (ordered): [1, 2, 3, 4]\n"
     ]
    }
   ],
   "source": [
    "def unique_ordered(lst):\n",
    "    seen = set()\n",
    "    unique_lst = []\n",
    "    for item in lst:\n",
    "        if item not in seen:\n",
    "            seen.add(item)\n",
    "            unique_lst.append(item)\n",
    "    return unique_lst\n",
    "\n",
    "nums = [1,2,2,3,4,3]      \n",
    "print(\"unique elements (ordered):\",unique_ordered(nums))"
   ]
  },
  {
   "cell_type": "code",
   "execution_count": null,
   "id": "8d8dbe70",
   "metadata": {},
   "outputs": [],
   "source": []
  }
 ],
 "metadata": {
  "kernelspec": {
   "display_name": "Python 3",
   "language": "python",
   "name": "python3"
  },
  "language_info": {
   "codemirror_mode": {
    "name": "ipython",
    "version": 3
   },
   "file_extension": ".py",
   "mimetype": "text/x-python",
   "name": "python",
   "nbconvert_exporter": "python",
   "pygments_lexer": "ipython3",
   "version": "3.13.6"
  }
 },
 "nbformat": 4,
 "nbformat_minor": 5
}
