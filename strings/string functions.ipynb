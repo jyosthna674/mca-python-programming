{
 "cells": [
  {
   "cell_type": "markdown",
   "id": "0c783bea",
   "metadata": {},
   "source": [
    "STRING CREATION"
   ]
  },
  {
   "cell_type": "code",
   "execution_count": null,
   "id": "94390514",
   "metadata": {},
   "outputs": [],
   "source": [
    "a = 'apple'\n",
    "b = \"banana\"\n",
    "c = \"This is chocolate cake\"\n",
    "print(a[0])\n",
    "a[0]='c'\n"
   ]
  },
  {
   "cell_type": "code",
   "execution_count": 2,
   "id": "6d0f6c57",
   "metadata": {},
   "outputs": [
    {
     "name": "stdout",
     "output_type": "stream",
     "text": [
      "10 <class 'str'>\n",
      "['apple', 'banana'] <class 'str'>\n"
     ]
    }
   ],
   "source": [
    "#type casting\n",
    "x = str(10)\n",
    "y = str([\"apple\",\"banana\"])\n",
    "print(x,type(x))\n",
    "print(y,type(y))"
   ]
  },
  {
   "cell_type": "code",
   "execution_count": 10,
   "id": "c7fc0e24",
   "metadata": {},
   "outputs": [
    {
     "name": "stdout",
     "output_type": "stream",
     "text": [
      "the point is,| am not disappointed\n"
     ]
    }
   ],
   "source": [
    "x = 'disappointed'\n",
    "y=x[5:10]\n",
    "print(f\"the {y} is,| am not {x}\")"
   ]
  },
  {
   "cell_type": "code",
   "execution_count": 22,
   "id": "7f94da2a",
   "metadata": {},
   "outputs": [
    {
     "name": "stdout",
     "output_type": "stream",
     "text": [
      "johnny johnny yes papa\n",
      "      eating sugar no papa\n",
      "      telling lies no papa\n",
      "      open your mouth hahaha\n"
     ]
    }
   ],
   "source": [
    "poem='''johnny johnny yes papa\n",
    "      eating sugar no papa\n",
    "      telling lies no papa\n",
    "      open your mouth hahaha'''\n",
    "print(poem)\n"
   ]
  },
  {
   "cell_type": "code",
   "execution_count": 28,
   "id": "b93f4ea4",
   "metadata": {},
   "outputs": [
    {
     "data": {
      "text/plain": [
       "'johnny johnny yes papa'"
      ]
     },
     "execution_count": 28,
     "metadata": {},
     "output_type": "execute_result"
    }
   ],
   "source": [
    "poem[0:22]"
   ]
  },
  {
   "cell_type": "markdown",
   "id": "eeb6001a",
   "metadata": {},
   "source": [
    "STRING FUNCTIONS"
   ]
  },
  {
   "cell_type": "code",
   "execution_count": 5,
   "id": "78272d3c",
   "metadata": {},
   "outputs": [
    {
     "name": "stdout",
     "output_type": "stream",
     "text": [
      "Maintain silence in Library\n",
      "MAINTAIN SILENCE IN LIBRARY\n"
     ]
    }
   ],
   "source": [
    "# string functions\n",
    "s = \"Maintain silence in Library\"\n",
    "supper=s.upper()\n",
    "print(s)\n",
    "print(supper)\n",
    "\n",
    "\n"
   ]
  },
  {
   "cell_type": "code",
   "execution_count": 14,
   "id": "ce7e99c0",
   "metadata": {},
   "outputs": [
    {
     "name": "stdout",
     "output_type": "stream",
     "text": [
      "Maintain silence in Library\n",
      "Maintain Silence In Liabrary\n"
     ]
    }
   ],
   "source": [
    "s = \"Maintain silence in Library\"\n",
    "slower = s.lower()\n",
    "print(s)\n",
    "print(supper)"
   ]
  },
  {
   "cell_type": "code",
   "execution_count": 13,
   "id": "e5a319de",
   "metadata": {},
   "outputs": [
    {
     "name": "stdout",
     "output_type": "stream",
     "text": [
      "Maintain silence in Library\n",
      "Maintain Silence In Liabrary\n"
     ]
    }
   ],
   "source": [
    "s = \"Maintain silence in Library\"\n",
    "scapitalize = s.capitalize()\n",
    "print(s)\n",
    "print(supper)"
   ]
  },
  {
   "cell_type": "code",
   "execution_count": 12,
   "id": "e7deac95",
   "metadata": {},
   "outputs": [
    {
     "name": "stdout",
     "output_type": "stream",
     "text": [
      "Maintain silence in liabrary\n",
      "Maintain Silence In Liabrary\n"
     ]
    }
   ],
   "source": [
    "s = \"Maintain silence in liabrary\"\n",
    "stitle= s.title()\n",
    "print(s)\n",
    "print(supper)"
   ]
  },
  {
   "cell_type": "code",
   "execution_count": 15,
   "id": "2340074d",
   "metadata": {},
   "outputs": [
    {
     "name": "stdout",
     "output_type": "stream",
     "text": [
      "Maintain silence in Library\n",
      "Maintain Silence In Liabrary\n"
     ]
    }
   ],
   "source": [
    "s = \"Maintain silence in Library\"\n",
    "sswapcase = s.swapcase()\n",
    "print(s)\n",
    "print(supper)"
   ]
  },
  {
   "cell_type": "code",
   "execution_count": 16,
   "id": "22c3c67a",
   "metadata": {},
   "outputs": [
    {
     "name": "stdout",
     "output_type": "stream",
     "text": [
      "Maintain silence in library\n",
      "Maintain Silence In Liabrary\n"
     ]
    }
   ],
   "source": [
    "s = \"Maintain silence in library\"\n",
    "scasefold = s.casefold()\n",
    "print(s)\n",
    "print(supper)"
   ]
  },
  {
   "cell_type": "code",
   "execution_count": 25,
   "id": "cb2a90bb",
   "metadata": {},
   "outputs": [
    {
     "name": "stdout",
     "output_type": "stream",
     "text": [
      "seven\n",
      "seven     \n",
      "seven     \n",
      "               seven/nlllllllsevenllllllll/n    seven    /n****seven****\n"
     ]
    }
   ],
   "source": [
    "a = \"seven\"\n",
    "a1 = a.ljust(10)\n",
    "print(a)\n",
    "print(a1)\n",
    "a2 = a.ljust(10,' ')\n",
    "print(a2)\n",
    "a3 = a.rjust(20)\n",
    "a4 = a.center(20,\"l\")\n",
    "a5 = a.center(13)\n",
    "a6 = a.center(13,\"*\")\n",
    "print(a3,a4,a5,a6,sep='/n')\n"
   ]
  },
  {
   "cell_type": "markdown",
   "id": "f89b2965",
   "metadata": {},
   "source": [
    "STRING FUNCTIONS\n",
    " Validation"
   ]
  },
  {
   "cell_type": "code",
   "execution_count": 5,
   "id": "858dbdae",
   "metadata": {},
   "outputs": [
    {
     "name": "stdout",
     "output_type": "stream",
     "text": [
      "False\n",
      "True\n",
      "True\n",
      "False\n"
     ]
    }
   ],
   "source": [
    "x = input()\n",
    "print(x.isalpha())\n",
    "print(x.isalnum())\n",
    "print(x.isdigit())\n",
    "print(x.isspace())\n",
    "\n"
   ]
  },
  {
   "cell_type": "code",
   "execution_count": 7,
   "id": "da328071",
   "metadata": {},
   "outputs": [
    {
     "name": "stdout",
     "output_type": "stream",
     "text": [
      "True\n",
      "False\n",
      "False\n"
     ]
    }
   ],
   "source": [
    "a = input()\n",
    "a1 = a.startswith(\"a\")\n",
    "a2 = a.startswith(\"hello\")\n",
    "a3 = a.startswith('b')\n",
    "print(a1,a2,a3,sep='\\n')"
   ]
  },
  {
   "cell_type": "code",
   "execution_count": null,
   "id": "188a61cb",
   "metadata": {},
   "outputs": [],
   "source": []
  }
 ],
 "metadata": {
  "kernelspec": {
   "display_name": "Python 3",
   "language": "python",
   "name": "python3"
  },
  "language_info": {
   "codemirror_mode": {
    "name": "ipython",
    "version": 3
   },
   "file_extension": ".py",
   "mimetype": "text/x-python",
   "name": "python",
   "nbconvert_exporter": "python",
   "pygments_lexer": "ipython3",
   "version": "3.13.6"
  }
 },
 "nbformat": 4,
 "nbformat_minor": 5
}
