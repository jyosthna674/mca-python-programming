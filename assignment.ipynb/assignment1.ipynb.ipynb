{
 "cells": [
  {
   "cell_type": "code",
   "execution_count": 1,
   "id": "adea3653",
   "metadata": {},
   "outputs": [
    {
     "name": "stdout",
     "output_type": "stream",
     "text": [
      "/nBefore swapping\n",
      "a= 1\n",
      "b= 2\n",
      "/nAfter swapping\n",
      "a= 2\n",
      "b= 1\n"
     ]
    }
   ],
   "source": [
    "a = int(input(\"enter the value:\"))\n",
    "b = int(input(\"enter the value:\"))\n",
    "print(\"/nBefore swapping\")\n",
    "print(\"a=\",a)\n",
    "print(\"b=\",b)\n",
    "temp = a\n",
    "a = b\n",
    "b = temp\n",
    "print(\"/nAfter swapping\")\n",
    "print(\"a=\",a)\n",
    "print(\"b=\",b)"
   ]
  },
  {
   "cell_type": "code",
   "execution_count": 2,
   "id": "a1fd303e",
   "metadata": {},
   "outputs": [
    {
     "name": "stdout",
     "output_type": "stream",
     "text": [
      "result: 676\n"
     ]
    }
   ],
   "source": [
    "num1 = input(\"enter the first value:\")\n",
    "num2 = input(\"enter the second value:\")\n",
    "operator = input(\"enter the operator(+,-,*,/):\")\n",
    "result = eval(num1+operator+num2)\n",
    "print(\"result:\",result)"
   ]
  },
  {
   "cell_type": "code",
   "execution_count": 3,
   "id": "177a1bfe",
   "metadata": {},
   "outputs": [
    {
     "name": "stdout",
     "output_type": "stream",
     "text": [
      "Integer value:10,Type:<class 'int'>\n",
      "Float value:10.0,Type:<class 'float'>\n"
     ]
    }
   ],
   "source": [
    "num_str=input(\"enter a number:\")\n",
    "num_int=int(num_str)\n",
    "num_float=float(num_str)\n",
    "print(f\"Integer value:{num_int},Type:{type(num_int)}\")\n",
    "print(f\"Float value:{num_float},Type:{type(num_float)}\")\n"
   ]
  },
  {
   "cell_type": "code",
   "execution_count": 4,
   "id": "8c6960b1",
   "metadata": {},
   "outputs": [
    {
     "name": "stdout",
     "output_type": "stream",
     "text": [
      "Root 1= (-0.5999999999999999+1.0198039027185568j)\n",
      "Root 2= (-0.6000000000000001-1.0198039027185568j)\n"
     ]
    }
   ],
   "source": [
    "a=float(input(\"enter a:\"))\n",
    "b=float(input(\"enter b:\"))\n",
    "c=float(input(\"enter c:\"))\n",
    "D=b**2-4*a*c\n",
    "D=complex(D,0)\n",
    "sprt_D=D**0.5\n",
    "root1=(-b+sprt_D)/(2*a)\n",
    "root2=(-b-sprt_D)/(2*a)\n",
    "print(\"Root 1=\",root1)\n",
    "print(\"Root 2=\",root2)"
   ]
  },
  {
   "cell_type": "code",
   "execution_count": 5,
   "id": "de7c5990",
   "metadata": {},
   "outputs": [
    {
     "name": "stdout",
     "output_type": "stream",
     "text": [
      "name:enter the name:,age:3 years,height:6.0cm\n"
     ]
    }
   ],
   "source": [
    "name = str(\"enter the name:\")\n",
    "age = int(input(\"enter the age:\"))\n",
    "height=float(input(\"enter the value:\"))\n",
    "print(f\"name:{name},age:{age} years,height:{height}cm\")"
   ]
  },
  {
   "cell_type": "code",
   "execution_count": 8,
   "id": "a415d56d",
   "metadata": {},
   "outputs": [
    {
     "name": "stdout",
     "output_type": "stream",
     "text": [
      "the sum of num1 and num2 is: 3.0\n"
     ]
    }
   ],
   "source": [
    "num1 = float(input(\"Enter first number:\"))\n",
    "num2 = float(input(\"Enter second number\"))\n",
    "sum=num1+num2\n",
    "print(\"the sum of num1 and num2 is:\",sum)"
   ]
  },
  {
   "cell_type": "code",
   "execution_count": 10,
   "id": "c2bea85c",
   "metadata": {},
   "outputs": [
    {
     "name": "stdout",
     "output_type": "stream",
     "text": [
      "uppercase name is JYOSHNA\n"
     ]
    }
   ],
   "source": [
    "name = str(input(\"enter the name\"))\n",
    "uppercase=name.upper()\n",
    "print(\"uppercase name is\",uppercase)"
   ]
  },
  {
   "cell_type": "code",
   "execution_count": 11,
   "id": "9e0931bf",
   "metadata": {},
   "outputs": [
    {
     "name": "stdout",
     "output_type": "stream",
     "text": [
      "square of 6 is 36\n"
     ]
    }
   ],
   "source": [
    "num = int(input(\"enter the number\"))\n",
    "squrt=num**2\n",
    "print(\"square of\",num,\"is\",squrt)"
   ]
  },
  {
   "cell_type": "code",
   "execution_count": 13,
   "id": "163e20c7",
   "metadata": {},
   "outputs": [
    {
     "name": "stdout",
     "output_type": "stream",
     "text": [
      "Hello Jyoshna\n"
     ]
    }
   ],
   "source": [
    "name = input(\"enter your name\")\n",
    "print(\"Hello\",name)"
   ]
  },
  {
   "cell_type": "code",
   "execution_count": 14,
   "id": "94e8727c",
   "metadata": {},
   "outputs": [
    {
     "name": "stdout",
     "output_type": "stream",
     "text": [
      "string1: hello\n",
      "string2: world\n",
      "concatenation: helloworld\n"
     ]
    }
   ],
   "source": [
    "a = str(input(\"enter the string:\"))\n",
    "b = str(input(\"enter the string:\"))\n",
    "c=a+b\n",
    "print(\"string1:\",a)\n",
    "print(\"string2:\",b)\n",
    "print(\"concatenation:\",c)"
   ]
  },
  {
   "cell_type": "code",
   "execution_count": 15,
   "id": "9e7cc88b",
   "metadata": {},
   "outputs": [
    {
     "name": "stdout",
     "output_type": "stream",
     "text": [
      "integer equivalent of 5.0 is 5\n"
     ]
    }
   ],
   "source": [
    "float_num=float(input(\"enter the number:\"))\n",
    "int_num=int(float_num)\n",
    "print(\"integer equivalent of\",float_num,\"is\",int_num)\n"
   ]
  },
  {
   "cell_type": "code",
   "execution_count": 16,
   "id": "c0a29e64",
   "metadata": {},
   "outputs": [
    {
     "name": "stdout",
     "output_type": "stream",
     "text": [
      "you are 25 years old\n"
     ]
    }
   ],
   "source": [
    "age = int(input(\"enter the age\"))\n",
    "print(f\"you are {age} years old\")"
   ]
  },
  {
   "cell_type": "code",
   "execution_count": 17,
   "id": "c702a804",
   "metadata": {},
   "outputs": [
    {
     "name": "stdout",
     "output_type": "stream",
     "text": [
      "product of 2 and 4 is 8\n"
     ]
    }
   ],
   "source": [
    "num1 = int(input(\"enter the first number:\"))\n",
    "num2 = int(input(\"enter the second number:\"))\n",
    "product=num1*num2\n",
    "print(f\"product of {num1} and {num2} is {product}\")"
   ]
  },
  {
   "cell_type": "code",
   "execution_count": 18,
   "id": "91d62566",
   "metadata": {},
   "outputs": [
    {
     "name": "stdout",
     "output_type": "stream",
     "text": [
      "sentence: 78\n",
      "length of the given sentence is 2\n"
     ]
    }
   ],
   "source": [
    "sentence = str(input(\"enter the sentence\"))\n",
    "length = len(sentence)\n",
    "print(\"sentence:\",sentence)\n",
    "print(f\"length of the given sentence is {length}\")"
   ]
  },
  {
   "cell_type": "code",
   "execution_count": 19,
   "id": "2de82710",
   "metadata": {},
   "outputs": [
    {
     "name": "stdout",
     "output_type": "stream",
     "text": [
      "the average is: 17.0\n"
     ]
    }
   ],
   "source": [
    "num1 = int(input(\"enter first number:\"))\n",
    "num2 = int(input(\"enter second number\"))\n",
    "num3 = int(input(\"enter third number:\"))\n",
    "average = num1+num2+num3/3\n",
    "print(\"the average is:\",average)"
   ]
  },
  {
   "cell_type": "code",
   "execution_count": 20,
   "id": "95e4e835",
   "metadata": {},
   "outputs": [
    {
     "name": "stdout",
     "output_type": "stream",
     "text": [
      "the absolute value of 52 is 52\n"
     ]
    }
   ],
   "source": [
    "num = int(input(\"enter the value:\"))\n",
    "absolute_value=abs(num)\n",
    "print(\"the absolute value of\",num,\"is\",absolute_value)"
   ]
  },
  {
   "cell_type": "code",
   "execution_count": 22,
   "id": "fa94da25",
   "metadata": {},
   "outputs": [
    {
     "name": "stdout",
     "output_type": "stream",
     "text": [
      "the difference between 4 and 6 is -2\n"
     ]
    }
   ],
   "source": [
    "num1 = int(input(\"enter the first value:\"))\n",
    "num2 = int(input(\"enter the second value:\"))\n",
    "difference=num1-num2\n",
    "print(\"the difference between\",num1,\"and\",num2,\"is\",difference)"
   ]
  },
  {
   "cell_type": "code",
   "execution_count": 23,
   "id": "e7514106",
   "metadata": {},
   "outputs": [
    {
     "name": "stdout",
     "output_type": "stream",
     "text": [
      "hello\n",
      "reversed string: olleh\n"
     ]
    }
   ],
   "source": [
    "text = str(input(\"enter a string:\"))\n",
    "reversed_text=text[::-1]\n",
    "print(text)\n",
    "print(\"reversed string:\",reversed_text)"
   ]
  },
  {
   "cell_type": "code",
   "execution_count": 24,
   "id": "06f7955a",
   "metadata": {},
   "outputs": [
    {
     "name": "stdout",
     "output_type": "stream",
     "text": [
      "height in cm : 5.0\n",
      "height in meters : 0.05\n"
     ]
    }
   ],
   "source": [
    "height=float(input(\"enter the height:\"))\n",
    "converted_height=height/100\n",
    "print(\"height in cm :\",height)\n",
    "print(\"height in meters :\",converted_height)"
   ]
  },
  {
   "cell_type": "code",
   "execution_count": 25,
   "id": "e404efc1",
   "metadata": {},
   "outputs": [
    {
     "name": "stdout",
     "output_type": "stream",
     "text": [
      "quotient of 4 and 5 is 0.8\n"
     ]
    }
   ],
   "source": [
    "num1 = int(input(\"enter the first value:\"))\n",
    "num2 = int(input(\"enter the second value:\"))\n",
    "quotient=num1/num2\n",
    "print(\"quotient of\",num1,\"and\",num2,\"is\",quotient)\n"
   ]
  },
  {
   "cell_type": "code",
   "execution_count": null,
   "id": "0af3492f",
   "metadata": {},
   "outputs": [
    {
     "name": "stdout",
     "output_type": "stream",
     "text": [
      "Jyothi\n"
     ]
    }
   ],
   "source": [
    "name = input(\"enter your number:\")\n",
    "print(f\"{name}\")\n"
   ]
  },
  {
   "cell_type": "code",
   "execution_count": 27,
   "id": "0a645722",
   "metadata": {},
   "outputs": [
    {
     "name": "stdout",
     "output_type": "stream",
     "text": [
      "result of 4.0 after rounding off to 2 decimal points is 4.0\n"
     ]
    }
   ],
   "source": [
    "number = float(input(\"enter the value:\"))\n",
    "result = round(number,2)\n",
    "print(\"result of\",number,\"after rounding off to 2 decimal points is\",result)"
   ]
  },
  {
   "cell_type": "code",
   "execution_count": 29,
   "id": "8c707360",
   "metadata": {},
   "outputs": [
    {
     "name": "stdout",
     "output_type": "stream",
     "text": [
      "hello  world\n"
     ]
    }
   ],
   "source": [
    "str1 = str(input(\"enter the string:\"))\n",
    "str2 = str(input(\"enter the string\"))\n",
    "print(f\"{str1}  {str2}\")"
   ]
  },
  {
   "cell_type": "code",
   "execution_count": 30,
   "id": "157bac6d",
   "metadata": {},
   "outputs": [
    {
     "name": "stdout",
     "output_type": "stream",
     "text": [
      "54\n",
      "type: <class 'int'>\n"
     ]
    }
   ],
   "source": [
    "value = int(input(\"enter the value\"))\n",
    "result=type(value)\n",
    "print(value)\n",
    "print(\"type:\",result)\n"
   ]
  },
  {
   "cell_type": "code",
   "execution_count": 31,
   "id": "e138e256",
   "metadata": {},
   "outputs": [
    {
     "name": "stdout",
     "output_type": "stream",
     "text": [
      "sum of numbers is 24\n",
      "product of numbers is 8\n"
     ]
    }
   ],
   "source": [
    "num1 = int(input(\"enter the first value:\"))\n",
    "num2 = int(input(\"enter the second value:\"))\n",
    "num3 = int(input(\"enter the third value\"))\n",
    "sum=num1+num2+num3\n",
    "print(f\"sum of numbers is {sum}\")\n",
    "print(f\"product of numbers is {product}\")"
   ]
  },
  {
   "cell_type": "code",
   "execution_count": null,
   "id": "010704a0",
   "metadata": {},
   "outputs": [],
   "source": []
  },
  {
   "cell_type": "code",
   "execution_count": null,
   "id": "a3b9b24d",
   "metadata": {},
   "outputs": [],
   "source": []
  }
 ],
 "metadata": {
  "kernelspec": {
   "display_name": "Python 3",
   "language": "python",
   "name": "python3"
  },
  "language_info": {
   "codemirror_mode": {
    "name": "ipython",
    "version": 3
   },
   "file_extension": ".py",
   "mimetype": "text/x-python",
   "name": "python",
   "nbconvert_exporter": "python",
   "pygments_lexer": "ipython3",
   "version": "3.13.6"
  }
 },
 "nbformat": 4,
 "nbformat_minor": 5
}
